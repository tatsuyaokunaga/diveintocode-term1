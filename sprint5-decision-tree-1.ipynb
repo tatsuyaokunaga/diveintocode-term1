{
 "cells": [
  {
   "cell_type": "markdown",
   "metadata": {},
   "source": [
    "# 大課題 タイタニック生存予測 ランダムフォレスト"
   ]
  },
  {
   "cell_type": "markdown",
   "metadata": {},
   "source": [
    "# データ取得\n",
    "## データ読み込み"
   ]
  },
  {
   "cell_type": "code",
   "execution_count": 1,
   "metadata": {},
   "outputs": [],
   "source": [
    "import pandas as pd\n",
    "import numpy as np\n",
    "\n",
    "df_train= pd.read_csv(\"./input/train.csv\")\n",
    "df_test=pd.read_csv(\"./input/test.csv\")"
   ]
  },
  {
   "cell_type": "markdown",
   "metadata": {},
   "source": [
    " ### データ確認\n",
    " データの中身を確認していきます。特徴量は１２で、ところどころ、欠損値が見受けられます。"
   ]
  },
  {
   "cell_type": "code",
   "execution_count": 2,
   "metadata": {
    "scrolled": true
   },
   "outputs": [
    {
     "data": {
      "text/html": [
       "<div>\n",
       "<style>\n",
       "    .dataframe thead tr:only-child th {\n",
       "        text-align: right;\n",
       "    }\n",
       "\n",
       "    .dataframe thead th {\n",
       "        text-align: left;\n",
       "    }\n",
       "\n",
       "    .dataframe tbody tr th {\n",
       "        vertical-align: top;\n",
       "    }\n",
       "</style>\n",
       "<table border=\"1\" class=\"dataframe\">\n",
       "  <thead>\n",
       "    <tr style=\"text-align: right;\">\n",
       "      <th></th>\n",
       "      <th>PassengerId</th>\n",
       "      <th>Survived</th>\n",
       "      <th>Pclass</th>\n",
       "      <th>Name</th>\n",
       "      <th>Sex</th>\n",
       "      <th>Age</th>\n",
       "      <th>SibSp</th>\n",
       "      <th>Parch</th>\n",
       "      <th>Ticket</th>\n",
       "      <th>Fare</th>\n",
       "      <th>Cabin</th>\n",
       "      <th>Embarked</th>\n",
       "    </tr>\n",
       "  </thead>\n",
       "  <tbody>\n",
       "    <tr>\n",
       "      <th>0</th>\n",
       "      <td>1</td>\n",
       "      <td>0</td>\n",
       "      <td>3</td>\n",
       "      <td>Braund, Mr. Owen Harris</td>\n",
       "      <td>male</td>\n",
       "      <td>22.0</td>\n",
       "      <td>1</td>\n",
       "      <td>0</td>\n",
       "      <td>A/5 21171</td>\n",
       "      <td>7.2500</td>\n",
       "      <td>NaN</td>\n",
       "      <td>S</td>\n",
       "    </tr>\n",
       "    <tr>\n",
       "      <th>1</th>\n",
       "      <td>2</td>\n",
       "      <td>1</td>\n",
       "      <td>1</td>\n",
       "      <td>Cumings, Mrs. John Bradley (Florence Briggs Th...</td>\n",
       "      <td>female</td>\n",
       "      <td>38.0</td>\n",
       "      <td>1</td>\n",
       "      <td>0</td>\n",
       "      <td>PC 17599</td>\n",
       "      <td>71.2833</td>\n",
       "      <td>C85</td>\n",
       "      <td>C</td>\n",
       "    </tr>\n",
       "    <tr>\n",
       "      <th>2</th>\n",
       "      <td>3</td>\n",
       "      <td>1</td>\n",
       "      <td>3</td>\n",
       "      <td>Heikkinen, Miss. Laina</td>\n",
       "      <td>female</td>\n",
       "      <td>26.0</td>\n",
       "      <td>0</td>\n",
       "      <td>0</td>\n",
       "      <td>STON/O2. 3101282</td>\n",
       "      <td>7.9250</td>\n",
       "      <td>NaN</td>\n",
       "      <td>S</td>\n",
       "    </tr>\n",
       "    <tr>\n",
       "      <th>3</th>\n",
       "      <td>4</td>\n",
       "      <td>1</td>\n",
       "      <td>1</td>\n",
       "      <td>Futrelle, Mrs. Jacques Heath (Lily May Peel)</td>\n",
       "      <td>female</td>\n",
       "      <td>35.0</td>\n",
       "      <td>1</td>\n",
       "      <td>0</td>\n",
       "      <td>113803</td>\n",
       "      <td>53.1000</td>\n",
       "      <td>C123</td>\n",
       "      <td>S</td>\n",
       "    </tr>\n",
       "    <tr>\n",
       "      <th>4</th>\n",
       "      <td>5</td>\n",
       "      <td>0</td>\n",
       "      <td>3</td>\n",
       "      <td>Allen, Mr. William Henry</td>\n",
       "      <td>male</td>\n",
       "      <td>35.0</td>\n",
       "      <td>0</td>\n",
       "      <td>0</td>\n",
       "      <td>373450</td>\n",
       "      <td>8.0500</td>\n",
       "      <td>NaN</td>\n",
       "      <td>S</td>\n",
       "    </tr>\n",
       "  </tbody>\n",
       "</table>\n",
       "</div>"
      ],
      "text/plain": [
       "   PassengerId  Survived  Pclass  \\\n",
       "0            1         0       3   \n",
       "1            2         1       1   \n",
       "2            3         1       3   \n",
       "3            4         1       1   \n",
       "4            5         0       3   \n",
       "\n",
       "                                                Name     Sex   Age  SibSp  \\\n",
       "0                            Braund, Mr. Owen Harris    male  22.0      1   \n",
       "1  Cumings, Mrs. John Bradley (Florence Briggs Th...  female  38.0      1   \n",
       "2                             Heikkinen, Miss. Laina  female  26.0      0   \n",
       "3       Futrelle, Mrs. Jacques Heath (Lily May Peel)  female  35.0      1   \n",
       "4                           Allen, Mr. William Henry    male  35.0      0   \n",
       "\n",
       "   Parch            Ticket     Fare Cabin Embarked  \n",
       "0      0         A/5 21171   7.2500   NaN        S  \n",
       "1      0          PC 17599  71.2833   C85        C  \n",
       "2      0  STON/O2. 3101282   7.9250   NaN        S  \n",
       "3      0            113803  53.1000  C123        S  \n",
       "4      0            373450   8.0500   NaN        S  "
      ]
     },
     "execution_count": 2,
     "metadata": {},
     "output_type": "execute_result"
    }
   ],
   "source": [
    "df_train.head()"
   ]
  },
  {
   "cell_type": "markdown",
   "metadata": {},
   "source": [
    "特徴量のうち、カテゴリカルが４個あります。\n",
    "データ数は891。  \n",
    "欠損値を持つ特徴量はAge 、Cabin、Embarkedの三つです。"
   ]
  },
  {
   "cell_type": "code",
   "execution_count": 3,
   "metadata": {},
   "outputs": [
    {
     "name": "stdout",
     "output_type": "stream",
     "text": [
      "<class 'pandas.core.frame.DataFrame'>\n",
      "RangeIndex: 891 entries, 0 to 890\n",
      "Data columns (total 12 columns):\n",
      "PassengerId    891 non-null int64\n",
      "Survived       891 non-null int64\n",
      "Pclass         891 non-null int64\n",
      "Name           891 non-null object\n",
      "Sex            891 non-null object\n",
      "Age            714 non-null float64\n",
      "SibSp          891 non-null int64\n",
      "Parch          891 non-null int64\n",
      "Ticket         891 non-null object\n",
      "Fare           891 non-null float64\n",
      "Cabin          204 non-null object\n",
      "Embarked       889 non-null object\n",
      "dtypes: float64(2), int64(5), object(5)\n",
      "memory usage: 83.6+ KB\n"
     ]
    }
   ],
   "source": [
    "df_train.info()"
   ]
  },
  {
   "cell_type": "code",
   "execution_count": 4,
   "metadata": {},
   "outputs": [
    {
     "data": {
      "text/html": [
       "<div>\n",
       "<style>\n",
       "    .dataframe thead tr:only-child th {\n",
       "        text-align: right;\n",
       "    }\n",
       "\n",
       "    .dataframe thead th {\n",
       "        text-align: left;\n",
       "    }\n",
       "\n",
       "    .dataframe tbody tr th {\n",
       "        vertical-align: top;\n",
       "    }\n",
       "</style>\n",
       "<table border=\"1\" class=\"dataframe\">\n",
       "  <thead>\n",
       "    <tr style=\"text-align: right;\">\n",
       "      <th></th>\n",
       "      <th>PassengerId</th>\n",
       "      <th>Survived</th>\n",
       "      <th>Pclass</th>\n",
       "      <th>Age</th>\n",
       "      <th>SibSp</th>\n",
       "      <th>Parch</th>\n",
       "      <th>Fare</th>\n",
       "    </tr>\n",
       "  </thead>\n",
       "  <tbody>\n",
       "    <tr>\n",
       "      <th>count</th>\n",
       "      <td>891.000000</td>\n",
       "      <td>891.000000</td>\n",
       "      <td>891.000000</td>\n",
       "      <td>714.000000</td>\n",
       "      <td>891.000000</td>\n",
       "      <td>891.000000</td>\n",
       "      <td>891.000000</td>\n",
       "    </tr>\n",
       "    <tr>\n",
       "      <th>mean</th>\n",
       "      <td>446.000000</td>\n",
       "      <td>0.383838</td>\n",
       "      <td>2.308642</td>\n",
       "      <td>29.699118</td>\n",
       "      <td>0.523008</td>\n",
       "      <td>0.381594</td>\n",
       "      <td>32.204208</td>\n",
       "    </tr>\n",
       "    <tr>\n",
       "      <th>std</th>\n",
       "      <td>257.353842</td>\n",
       "      <td>0.486592</td>\n",
       "      <td>0.836071</td>\n",
       "      <td>14.526497</td>\n",
       "      <td>1.102743</td>\n",
       "      <td>0.806057</td>\n",
       "      <td>49.693429</td>\n",
       "    </tr>\n",
       "    <tr>\n",
       "      <th>min</th>\n",
       "      <td>1.000000</td>\n",
       "      <td>0.000000</td>\n",
       "      <td>1.000000</td>\n",
       "      <td>0.420000</td>\n",
       "      <td>0.000000</td>\n",
       "      <td>0.000000</td>\n",
       "      <td>0.000000</td>\n",
       "    </tr>\n",
       "    <tr>\n",
       "      <th>25%</th>\n",
       "      <td>223.500000</td>\n",
       "      <td>0.000000</td>\n",
       "      <td>2.000000</td>\n",
       "      <td>20.125000</td>\n",
       "      <td>0.000000</td>\n",
       "      <td>0.000000</td>\n",
       "      <td>7.910400</td>\n",
       "    </tr>\n",
       "    <tr>\n",
       "      <th>50%</th>\n",
       "      <td>446.000000</td>\n",
       "      <td>0.000000</td>\n",
       "      <td>3.000000</td>\n",
       "      <td>28.000000</td>\n",
       "      <td>0.000000</td>\n",
       "      <td>0.000000</td>\n",
       "      <td>14.454200</td>\n",
       "    </tr>\n",
       "    <tr>\n",
       "      <th>75%</th>\n",
       "      <td>668.500000</td>\n",
       "      <td>1.000000</td>\n",
       "      <td>3.000000</td>\n",
       "      <td>38.000000</td>\n",
       "      <td>1.000000</td>\n",
       "      <td>0.000000</td>\n",
       "      <td>31.000000</td>\n",
       "    </tr>\n",
       "    <tr>\n",
       "      <th>max</th>\n",
       "      <td>891.000000</td>\n",
       "      <td>1.000000</td>\n",
       "      <td>3.000000</td>\n",
       "      <td>80.000000</td>\n",
       "      <td>8.000000</td>\n",
       "      <td>6.000000</td>\n",
       "      <td>512.329200</td>\n",
       "    </tr>\n",
       "  </tbody>\n",
       "</table>\n",
       "</div>"
      ],
      "text/plain": [
       "       PassengerId    Survived      Pclass         Age       SibSp  \\\n",
       "count   891.000000  891.000000  891.000000  714.000000  891.000000   \n",
       "mean    446.000000    0.383838    2.308642   29.699118    0.523008   \n",
       "std     257.353842    0.486592    0.836071   14.526497    1.102743   \n",
       "min       1.000000    0.000000    1.000000    0.420000    0.000000   \n",
       "25%     223.500000    0.000000    2.000000   20.125000    0.000000   \n",
       "50%     446.000000    0.000000    3.000000   28.000000    0.000000   \n",
       "75%     668.500000    1.000000    3.000000   38.000000    1.000000   \n",
       "max     891.000000    1.000000    3.000000   80.000000    8.000000   \n",
       "\n",
       "            Parch        Fare  \n",
       "count  891.000000  891.000000  \n",
       "mean     0.381594   32.204208  \n",
       "std      0.806057   49.693429  \n",
       "min      0.000000    0.000000  \n",
       "25%      0.000000    7.910400  \n",
       "50%      0.000000   14.454200  \n",
       "75%      0.000000   31.000000  \n",
       "max      6.000000  512.329200  "
      ]
     },
     "execution_count": 4,
     "metadata": {},
     "output_type": "execute_result"
    }
   ],
   "source": [
    "df_train.describe()"
   ]
  },
  {
   "cell_type": "markdown",
   "metadata": {},
   "source": [
    "# 前処理について記述せよ  "
   ]
  },
  {
   "cell_type": "markdown",
   "metadata": {},
   "source": [
    "- 前処理とは何か  \n",
    "機械学習の学習器でデータを使用するときに、学習器がデータをうまく扱うことができるように加工をすること。  \n",
    "\n",
    "- なぜ前処理を行う必要があるのか  \n",
    "常にデータがきれいに揃っていたり、学習器に対応した記述になっているわけではない現実があるため。  \n",
    "また、前処理を行うことにより、分析の精度が大きく変わることがあるため。  \n",
    "  \n",
    "- 前処理は具体的に何を行うか(3つ以上記述せよ)  \n",
    "①データを統一した型に変換  \n",
    "②欠損値を埋めたり、除去する。  \n",
    "③外れ値があれば除去する。  \n",
    "④データのスケーリング。  \n",
    "- 前述した具体的な前処理について、その前処理を行うと何を得ることができるか(記述したそれぞれの前処理例について記述せよ)  \n",
    "①単位が異なると正しい分析が不可能だが、統一したデータ型に揃えることでデータを信頼して扱えるようになる。  \n",
    "②欠損値があれば、学習器で必ずエラーが発生してしまうので、エラーを防ぐことができる。  \n",
    "③外れ値を持ったままデータを学習器に入れて学習させた場合、過学習が起こりやすく、未知のデータに対しての精度が落ちるため外れ値を除去することで、予測の精度を高めることできる。  \n",
    "④特徴量同士で、データの絶対値がことなる場合、スケーリングによって異なる特徴量同士でも比較できるように大きさを調整することで精度が上がる。  "
   ]
  },
  {
   "cell_type": "markdown",
   "metadata": {},
   "source": [
    "# 2/前処理について記述せよ\n",
    "前処理について記述せよの調査により、データを確認する際にどのような点を見るとよいか、3つ以上記述せよ。"
   ]
  },
  {
   "cell_type": "markdown",
   "metadata": {},
   "source": [
    "①全ての特徴量のデータの中身が数値か文字列か、または数値でも単位が統一されてるのか。  \n",
    "②欠損値があるか  \n",
    "③散布図で外れ値がないか確認する。  \n",
    "④特徴量同士の数値のスケールの乖離が大きいか。"
   ]
  },
  {
   "cell_type": "markdown",
   "metadata": {},
   "source": [
    "# 前処理を行う"
   ]
  },
  {
   "cell_type": "markdown",
   "metadata": {},
   "source": [
    "### 前処理１"
   ]
  },
  {
   "cell_type": "code",
   "execution_count": 5,
   "metadata": {
    "scrolled": false
   },
   "outputs": [
    {
     "data": {
      "text/html": [
       "<div>\n",
       "<style>\n",
       "    .dataframe thead tr:only-child th {\n",
       "        text-align: right;\n",
       "    }\n",
       "\n",
       "    .dataframe thead th {\n",
       "        text-align: left;\n",
       "    }\n",
       "\n",
       "    .dataframe tbody tr th {\n",
       "        vertical-align: top;\n",
       "    }\n",
       "</style>\n",
       "<table border=\"1\" class=\"dataframe\">\n",
       "  <thead>\n",
       "    <tr style=\"text-align: right;\">\n",
       "      <th></th>\n",
       "      <th>PassengerId</th>\n",
       "      <th>Survived</th>\n",
       "      <th>Pclass</th>\n",
       "      <th>Sex</th>\n",
       "      <th>Age</th>\n",
       "      <th>SibSp</th>\n",
       "      <th>Parch</th>\n",
       "      <th>Fare</th>\n",
       "      <th>Cabin</th>\n",
       "      <th>Lname</th>\n",
       "      <th>NamePrefix</th>\n",
       "    </tr>\n",
       "  </thead>\n",
       "  <tbody>\n",
       "    <tr>\n",
       "      <th>0</th>\n",
       "      <td>1</td>\n",
       "      <td>0</td>\n",
       "      <td>3</td>\n",
       "      <td>male</td>\n",
       "      <td>Student</td>\n",
       "      <td>1</td>\n",
       "      <td>0</td>\n",
       "      <td>1_quartile</td>\n",
       "      <td>N</td>\n",
       "      <td>Braund,</td>\n",
       "      <td>Mr.</td>\n",
       "    </tr>\n",
       "    <tr>\n",
       "      <th>1</th>\n",
       "      <td>2</td>\n",
       "      <td>1</td>\n",
       "      <td>1</td>\n",
       "      <td>female</td>\n",
       "      <td>Adult</td>\n",
       "      <td>1</td>\n",
       "      <td>0</td>\n",
       "      <td>4_quartile</td>\n",
       "      <td>C</td>\n",
       "      <td>Cumings,</td>\n",
       "      <td>Mrs.</td>\n",
       "    </tr>\n",
       "    <tr>\n",
       "      <th>2</th>\n",
       "      <td>3</td>\n",
       "      <td>1</td>\n",
       "      <td>3</td>\n",
       "      <td>female</td>\n",
       "      <td>Young Adult</td>\n",
       "      <td>0</td>\n",
       "      <td>0</td>\n",
       "      <td>1_quartile</td>\n",
       "      <td>N</td>\n",
       "      <td>Heikkinen,</td>\n",
       "      <td>Miss.</td>\n",
       "    </tr>\n",
       "    <tr>\n",
       "      <th>3</th>\n",
       "      <td>4</td>\n",
       "      <td>1</td>\n",
       "      <td>1</td>\n",
       "      <td>female</td>\n",
       "      <td>Young Adult</td>\n",
       "      <td>1</td>\n",
       "      <td>0</td>\n",
       "      <td>4_quartile</td>\n",
       "      <td>C</td>\n",
       "      <td>Futrelle,</td>\n",
       "      <td>Mrs.</td>\n",
       "    </tr>\n",
       "    <tr>\n",
       "      <th>4</th>\n",
       "      <td>5</td>\n",
       "      <td>0</td>\n",
       "      <td>3</td>\n",
       "      <td>male</td>\n",
       "      <td>Young Adult</td>\n",
       "      <td>0</td>\n",
       "      <td>0</td>\n",
       "      <td>2_quartile</td>\n",
       "      <td>N</td>\n",
       "      <td>Allen,</td>\n",
       "      <td>Mr.</td>\n",
       "    </tr>\n",
       "  </tbody>\n",
       "</table>\n",
       "</div>"
      ],
      "text/plain": [
       "   PassengerId  Survived  Pclass     Sex          Age  SibSp  Parch  \\\n",
       "0            1         0       3    male      Student      1      0   \n",
       "1            2         1       1  female        Adult      1      0   \n",
       "2            3         1       3  female  Young Adult      0      0   \n",
       "3            4         1       1  female  Young Adult      1      0   \n",
       "4            5         0       3    male  Young Adult      0      0   \n",
       "\n",
       "         Fare Cabin       Lname NamePrefix  \n",
       "0  1_quartile     N     Braund,        Mr.  \n",
       "1  4_quartile     C    Cumings,       Mrs.  \n",
       "2  1_quartile     N  Heikkinen,      Miss.  \n",
       "3  4_quartile     C   Futrelle,       Mrs.  \n",
       "4  2_quartile     N      Allen,        Mr.  "
      ]
     },
     "execution_count": 5,
     "metadata": {},
     "output_type": "execute_result"
    }
   ],
   "source": [
    "def simplify_ages(df):\n",
    "    df.Age = df.Age.fillna(-0.5)\n",
    "    bins = (-1, 0, 5, 12, 18, 25, 35, 60, 120)\n",
    "    group_names = ['Unknown', 'Baby', 'Child', 'Teenager', 'Student', 'Young Adult', 'Adult', 'Senior']\n",
    "    categories = pd.cut(df.Age, bins, labels=group_names)\n",
    "    df.Age = categories\n",
    "    return df\n",
    "\n",
    "def simplify_cabins(df):\n",
    "    df.Cabin = df.Cabin.fillna('N')\n",
    "    df.Cabin = df.Cabin.apply(lambda x: x[0])\n",
    "    return df\n",
    "\n",
    "def simplify_fares(df):\n",
    "    df.Fare = df.Fare.fillna(-0.5)\n",
    "    bins = (-1, 0, 8, 15, 31, 1000)\n",
    "    group_names = ['Unknown', '1_quartile', '2_quartile', '3_quartile', '4_quartile']\n",
    "    categories = pd.cut(df.Fare, bins, labels=group_names)\n",
    "    df.Fare = categories\n",
    "    return df\n",
    "\n",
    "def format_name(df):\n",
    "    df['Lname'] = df.Name.apply(lambda x: x.split(' ')[0])\n",
    "    df['NamePrefix'] = df.Name.apply(lambda x: x.split(' ')[1])\n",
    "    return df\n",
    "\n",
    "def drop_features(df):\n",
    "    return df.drop(['Ticket', 'Name', 'Embarked'], axis=1)\n",
    "\n",
    "def transform_features(df):\n",
    "    df = simplify_ages(df)\n",
    "    df = simplify_cabins(df)\n",
    "    df = simplify_fares(df)\n",
    "    df = format_name(df)\n",
    "    df = drop_features(df)\n",
    "    return df\n",
    "\n",
    "df_train = transform_features(df_train)\n",
    "df_test = transform_features(df_test)\n",
    "df_train.head()"
   ]
  },
  {
   "cell_type": "markdown",
   "metadata": {},
   "source": [
    "### 前処理２"
   ]
  },
  {
   "cell_type": "code",
   "execution_count": 6,
   "metadata": {},
   "outputs": [
    {
     "data": {
      "text/html": [
       "<div>\n",
       "<style>\n",
       "    .dataframe thead tr:only-child th {\n",
       "        text-align: right;\n",
       "    }\n",
       "\n",
       "    .dataframe thead th {\n",
       "        text-align: left;\n",
       "    }\n",
       "\n",
       "    .dataframe tbody tr th {\n",
       "        vertical-align: top;\n",
       "    }\n",
       "</style>\n",
       "<table border=\"1\" class=\"dataframe\">\n",
       "  <thead>\n",
       "    <tr style=\"text-align: right;\">\n",
       "      <th></th>\n",
       "      <th>PassengerId</th>\n",
       "      <th>Survived</th>\n",
       "      <th>Pclass</th>\n",
       "      <th>Sex</th>\n",
       "      <th>Age</th>\n",
       "      <th>SibSp</th>\n",
       "      <th>Parch</th>\n",
       "      <th>Fare</th>\n",
       "      <th>Cabin</th>\n",
       "      <th>Lname</th>\n",
       "      <th>NamePrefix</th>\n",
       "    </tr>\n",
       "  </thead>\n",
       "  <tbody>\n",
       "    <tr>\n",
       "      <th>0</th>\n",
       "      <td>1</td>\n",
       "      <td>0</td>\n",
       "      <td>3</td>\n",
       "      <td>1</td>\n",
       "      <td>4</td>\n",
       "      <td>1</td>\n",
       "      <td>0</td>\n",
       "      <td>0</td>\n",
       "      <td>7</td>\n",
       "      <td>100</td>\n",
       "      <td>19</td>\n",
       "    </tr>\n",
       "    <tr>\n",
       "      <th>1</th>\n",
       "      <td>2</td>\n",
       "      <td>1</td>\n",
       "      <td>1</td>\n",
       "      <td>0</td>\n",
       "      <td>0</td>\n",
       "      <td>1</td>\n",
       "      <td>0</td>\n",
       "      <td>3</td>\n",
       "      <td>2</td>\n",
       "      <td>182</td>\n",
       "      <td>20</td>\n",
       "    </tr>\n",
       "    <tr>\n",
       "      <th>2</th>\n",
       "      <td>3</td>\n",
       "      <td>1</td>\n",
       "      <td>3</td>\n",
       "      <td>0</td>\n",
       "      <td>7</td>\n",
       "      <td>0</td>\n",
       "      <td>0</td>\n",
       "      <td>0</td>\n",
       "      <td>7</td>\n",
       "      <td>329</td>\n",
       "      <td>16</td>\n",
       "    </tr>\n",
       "    <tr>\n",
       "      <th>3</th>\n",
       "      <td>4</td>\n",
       "      <td>1</td>\n",
       "      <td>1</td>\n",
       "      <td>0</td>\n",
       "      <td>7</td>\n",
       "      <td>1</td>\n",
       "      <td>0</td>\n",
       "      <td>3</td>\n",
       "      <td>2</td>\n",
       "      <td>267</td>\n",
       "      <td>20</td>\n",
       "    </tr>\n",
       "    <tr>\n",
       "      <th>4</th>\n",
       "      <td>5</td>\n",
       "      <td>0</td>\n",
       "      <td>3</td>\n",
       "      <td>1</td>\n",
       "      <td>7</td>\n",
       "      <td>0</td>\n",
       "      <td>0</td>\n",
       "      <td>1</td>\n",
       "      <td>7</td>\n",
       "      <td>15</td>\n",
       "      <td>19</td>\n",
       "    </tr>\n",
       "  </tbody>\n",
       "</table>\n",
       "</div>"
      ],
      "text/plain": [
       "   PassengerId  Survived  Pclass  Sex  Age  SibSp  Parch  Fare  Cabin  Lname  \\\n",
       "0            1         0       3    1    4      1      0     0      7    100   \n",
       "1            2         1       1    0    0      1      0     3      2    182   \n",
       "2            3         1       3    0    7      0      0     0      7    329   \n",
       "3            4         1       1    0    7      1      0     3      2    267   \n",
       "4            5         0       3    1    7      0      0     1      7     15   \n",
       "\n",
       "   NamePrefix  \n",
       "0          19  \n",
       "1          20  \n",
       "2          16  \n",
       "3          20  \n",
       "4          19  "
      ]
     },
     "execution_count": 6,
     "metadata": {},
     "output_type": "execute_result"
    }
   ],
   "source": [
    "from sklearn import preprocessing\n",
    "def encode_features(df_train, df_test):\n",
    "    features = ['Fare', 'Cabin', 'Age', 'Sex', 'Lname', 'NamePrefix']\n",
    "    df_combined = pd.concat([df_train[features], df_test[features]])\n",
    "\n",
    "    for feature in features:\n",
    "        le = preprocessing.LabelEncoder()\n",
    "        le = le.fit(df_combined[feature])\n",
    "        df_train[feature] = le.transform(df_train[feature])\n",
    "        df_test[feature] = le.transform(df_test[feature])\n",
    "    return df_train, df_test\n",
    "\n",
    "df_train, df_test = encode_features(df_train, df_test)\n",
    "df_train.head()"
   ]
  },
  {
   "cell_type": "markdown",
   "metadata": {},
   "source": [
    "#  前処理の内容について記述せよ\n",
    "\n",
    "以上のメソッドがそれぞれ何を行っているか記述せよ  \n",
    "それぞれなぜそのようなことを行っているか記述せよ(それによって得られるメリットまで考察すること)　　"
   ]
  },
  {
   "cell_type": "markdown",
   "metadata": {},
   "source": [
    "### simplify_ages  \n",
    "データセットをbins内の年齢層ごとに、配列group_namesへのカテゴリカル化処理を行なっている。\n",
    "年齢を束ねてカテゴリカルに区分することで、年齢層ごとに数値化し、棒グラフなどで可視化するのに便利にもなる。"
   ]
  },
  {
   "cell_type": "markdown",
   "metadata": {},
   "source": [
    " ### simplify_cabins  \n",
    "\n",
    "欠損値を'N'に置き換え、その他は各文字列の最初のアルファベットに置き換える処理をしている。  \n",
    "データが大文字の数種のアルファベットと異なる数値の組み合わせて入力されていると思われ、このままだと膨大な種類になってします。先頭のアルファベットで分類しデータ型をオブジェクト型に統一させて処理を行うことで"
   ]
  },
  {
   "cell_type": "markdown",
   "metadata": {},
   "source": [
    "### simplify_fares\n",
    "乗船チケット金額を５つのクラスに分ける関数を定義している。欠損値には'Unknown'でうめる。\n",
    "生存率がチケットの金額にも関係していることが予想されるため、特徴量として数値化する前処理として有効である。"
   ]
  },
  {
   "cell_type": "markdown",
   "metadata": {},
   "source": [
    "### format_name\n",
    " 'Name'の前から１つ目のブロックを'Lname'に２つ目のブロックを'NamePrefix'という新しい特徴量をつくりそれぞれ格納している。  \n",
    "'Lname'から、家族関係を集計が可能になり、生存率を考える上で有効な特徴量になってくる。また'NamePrefix'は、社会的な地位などの情報が取得でき、生存率の分析に有効になる。"
   ]
  },
  {
   "cell_type": "markdown",
   "metadata": {},
   "source": [
    "### drop_features"
   ]
  },
  {
   "cell_type": "markdown",
   "metadata": {},
   "source": [
    "'Ticket', 'Name', 'Embarked'の特徴量をデータセットから削除している。\n",
    "すでに取得してきた特徴量から、'Ticket'は 'Fare'に, 'Name'は'Lname'に, 'Embarked'は現在すでにある特徴量で説明されていると考えられるので削除可能と判断できる。また特徴量を整理することで処理速度を軽減できる。」"
   ]
  },
  {
   "cell_type": "markdown",
   "metadata": {},
   "source": [
    "### encode_features  \n",
    "trainデータ、testデータを連結したあと、お互いの'Fare', 'Cabin', 'Age', 'Sex', 'Lname', 'NamePrefix'のカテゴリカルデータをLabelEncoder()メソッドで、数値(ラベル)にエンコードして、先頭を表示している。  \n",
    "すべての特徴量を数値化することで学習器に入力できる準備が整った。"
   ]
  },
  {
   "cell_type": "markdown",
   "metadata": {},
   "source": [
    "# モデル選択について記述せよ"
   ]
  },
  {
   "cell_type": "markdown",
   "metadata": {},
   "source": [
    "### 今回は、生存予測（分類）を行いますが、この分類について使用できそうな手法を4つ以上しらべて記述せよ。\n",
    " - 決定木分析\n",
    " - ランダムフォレスト\n",
    " - SVM(サポートベクターマシン)\n",
    " - ロジスティック回帰"
   ]
  },
  {
   "cell_type": "markdown",
   "metadata": {},
   "source": [
    "### その手法の概要をそれぞれ記述せよ\n",
    "- その手法の概要をそれぞれ記述せよ\n",
    "- その手法の長所/短所をそれぞれ3つずつ、記述したすべての手法において記述せよ"
   ]
  },
  {
   "cell_type": "markdown",
   "metadata": {},
   "source": [
    "### 決定木\n",
    "#### 概要\n",
    "教師あり学習の一つで定められたクラス分類に関する問題を扱う。具体的には「決定木」と呼ばれる樹木上のモデルを使って、上から順に条件分岐を作りデータセットを分類することで、その結果に与えた要因を分析し、その分類結果を利用して将来の予測を行う。\n",
    "#### 長所\n",
    "\n",
    "- 解釈が容易\n",
    "- 前処理が少ない\n",
    "- モデルの複雑さを制約する(過学習を防ぐ)パラメータは3つしかない\n",
    "\n",
    "#### 短所  \n",
    "- パラメータで過学習を抑制しようとしても過剰学習しやすく汎化性能が低い。\n",
    "- あまり多くの特徴量を扱うのは難しい。  \n",
    "- 分類性能が高い手法では無い"
   ]
  },
  {
   "cell_type": "markdown",
   "metadata": {},
   "source": [
    "### ランダムフォレスト\n",
    "#### 概要\n",
    "決定木をたくさん作ってその結果を多数決（平均化）することで、決定木の過学習を平準化するアルゴリズム。このことをアンサンブル学習という。\n",
    "#### 長所\n",
    "- 多数決アンサンブル学習のため過学習が起こりにくい。\n",
    "- 特徴量の標準化や正規化の必要がない。\n",
    "- どの特徴量が重要かを数値化することが可能  \n",
    "\n",
    "#### 短所  \n",
    "- 木を深くしすぎると過学習を起こす。\n",
    "- 複雑なデータではSVMなどの分類手法に比べて汎化性能が下がる。\n",
    "- 説明変数のうち意味のある変数がノイズ変数よりも極端に少ない場合にはうまく働かない"
   ]
  },
  {
   "cell_type": "markdown",
   "metadata": {},
   "source": [
    "### SVM(サポートベクターマシン)\n",
    "#### 概要\n",
    "教師あり機械学習方法であり、局所解収束の問題が無い長所がある。「マージン最大化」というアイデア等で汎化能力も高め、現在知られている方法としては、最も優秀なパターン識別能力を持つとされている。またカーネルトリックという手法で、線形分離不可能な場合でも適用可能になったことで応用範囲が格段に広がり、近年研究が盛んになっている。\n",
    "#### 長所\n",
    "\n",
    "- データの次元が大きくなっても識別精度がよい。\n",
    "- 最適化すべきパラメータが少ない\n",
    "- パラメータの算出が容易。  \n",
    "\n",
    "#### 短所  \n",
    "- 学習データが増えると計算量が膨大になる。\n",
    "- 基本的に２クラス分類にしか使えない。\n",
    "- 線形分離不可能な場合でも柔軟に対応できるが必ずしもよい識別器が構成されるとは限らない。"
   ]
  },
  {
   "cell_type": "markdown",
   "metadata": {},
   "source": [
    "### ロジスティック回帰\n",
    "#### 概要\n",
    "２分類モデルを作るためアルゴリズム。分類に直線ではなくS字型の曲線を使用するためデータをグループに分けるのに適している。分類結果の値を予測するのではなく、目的変数が１になる確率を予測する。\n",
    "#### 長所\n",
    "- 高速で単純\n",
    "- 線形分離可能なクラスに対して高い性能が発揮される。\n",
    "- モデルの中身を数式として出力できる。  \n",
    "\n",
    "#### 短所\n",
    "\n",
    "- 非線形の問題はうまく学習できない。\n",
    "- あまり関係のない説明変数を使用したり、データ数が少ないと、誤った結果を導くことがある\n",
    "- "
   ]
  },
  {
   "cell_type": "markdown",
   "metadata": {},
   "source": [
    "#  モデル選択の基準\n",
    "- モデルの精度\n",
    "- データセットのデータ使用量の大きさによってトレーニング時間を考慮する必要性が生じてくる。\n",
    "- モデルのパラメータの数\n",
    "- データセットの特徴量の数\n"
   ]
  },
  {
   "cell_type": "markdown",
   "metadata": {},
   "source": [
    "# モデル選択におけるデータ可視化"
   ]
  },
  {
   "cell_type": "code",
   "execution_count": 7,
   "metadata": {
    "collapsed": true
   },
   "outputs": [],
   "source": [
    "import matplotlib.pyplot as plt\n",
    "import seaborn as sns\n",
    "%matplotlib inline"
   ]
  },
  {
   "cell_type": "code",
   "execution_count": 8,
   "metadata": {},
   "outputs": [
    {
     "data": {
      "image/png": "[encoded data removed]",
      "text/plain": [
       "<matplotlib.figure.Figure at 0x11c61a1d0>"
      ]
     },
     "metadata": {},
     "output_type": "display_data"
    }
   ],
   "source": [
    "plt.figure(figsize=(8,6))\n",
    "sns.barplot(x=\"Age\", y=\"Survived\", hue=\"Sex\", data=df_train);"
   ]
  },
  {
   "cell_type": "code",
   "execution_count": 9,
   "metadata": {},
   "outputs": [
    {
     "data": {
      "image/png": "[encoded data removed]",
      "text/plain": [
       "<matplotlib.figure.Figure at 0x11c752c18>"
      ]
     },
     "metadata": {},
     "output_type": "display_data"
    }
   ],
   "source": [
    "plt.figure(figsize=(8,6))\n",
    "sns.pointplot(x=\"Pclass\", y=\"Survived\", hue=\"Sex\", data=df_train,\n",
    "              palette={1: \"blue\", 0: \"pink\"},\n",
    "              markers=[\"*\", \"o\"], linestyles=[\"-\", \"--\"]);"
   ]
  },
  {
   "cell_type": "markdown",
   "metadata": {},
   "source": [
    " # データ可視化の結果について考察せよ\n",
    "#### 上記の２つの可視化から分かったことについて考察せよ。"
   ]
  },
  {
   "cell_type": "markdown",
   "metadata": {},
   "source": [
    "各年齢層で見ると、'Teenager', 'Student', 'Young Adult', 'Adult', 'Senior'　まで圧倒的に女性の生存率が高いが、'Child'では男の子の方の生存率が高いことがわかる。\n",
    "性別とPclassの図では、全体的に女性の生存率が高いが、男女ともPclass1が高く、２、３と率が下がっていることから、富裕層、社会的地位ある人たちの生存率が高いと推測できる。"
   ]
  },
  {
   "cell_type": "markdown",
   "metadata": {},
   "source": [
    "#### 上記の考察結果から、モデル選択を考える場合、どのようなことが考えられるか"
   ]
  },
  {
   "cell_type": "markdown",
   "metadata": {},
   "source": [
    "生存率に関わってくる大きな要素が、性別、チケットの金額、そして年齢層になると推測できので、分類問題に得意なモデルがいい。"
   ]
  },
  {
   "cell_type": "markdown",
   "metadata": {},
   "source": [
    "# データセットの分割\n",
    "それでは、テストデータの作成を行いましょう。学習データとテストデータの比は8:2とします。"
   ]
  },
  {
   "cell_type": "code",
   "execution_count": 10,
   "metadata": {},
   "outputs": [],
   "source": [
    "from sklearn.model_selection import train_test_split\n",
    "\n",
    "X = df_train.drop(['Survived', 'PassengerId'], axis=1)\n",
    "y = df_train['Survived']\n",
    "X_train, X_test, y_train, y_test = train_test_split(X, y, test_size=0.2, random_state=666,)"
   ]
  },
  {
   "cell_type": "markdown",
   "metadata": {},
   "source": [
    "# ランダムフォレストについて記述せよ  \n",
    "今回は、ランダムフォレストという手法を使用します。  \n",
    "以下の観点をすべて含めて記述しましょう。"
   ]
  },
  {
   "cell_type": "markdown",
   "metadata": {},
   "source": [
    "### 決定木とはどのような手法か  \n",
    "教師あり学習の一つで定められたクラス分類に関する問題を扱う。具体的には「決定木」と呼ばれる樹木上のモデルを使って、上から順に条件分岐を作りデータセットを分類することで、その結果に与えた要因を分析し、その分類結果を利用して将来の予測を行う。"
   ]
  },
  {
   "cell_type": "markdown",
   "metadata": {},
   "source": [
    "### ランダムフォレストとはどのような手法か  \n",
    "決定木をたくさん作ってその結果を多数決（平均化）することで、決定木の過学習を平準化するアルゴリズム。このことをアンサンブル学習という。"
   ]
  },
  {
   "cell_type": "markdown",
   "metadata": {},
   "source": [
    "### ランダムフォレストの長所と短所をそれぞれ3つ以上挙げてください。\n",
    "#### 長所 \n",
    "- 多数決アンサンブル学習のため過学習が起こりにくい。\n",
    "- 特徴量の標準化や正規化の必要がない。\n",
    "- どの特徴量が重要かを数値化することが可能　　\n",
    "\n",
    "#### 短所  \n",
    "\n",
    "- 木を深くしすぎると過学習を起こす。\n",
    "- 複雑なデータではSVMなどの分類手法に比べて汎化性能が下がる。\n",
    "- 説明変数のうち意味のある変数がノイズ変数よりも極端に少ない場合にはうまく働かない\n"
   ]
  },
  {
   "cell_type": "markdown",
   "metadata": {},
   "source": [
    "### 今回の目的からランダムフォレストの手法が適する理由を考察し、記述せよ  \n",
    "\n",
    "\n",
    "\n"
   ]
  },
  {
   "cell_type": "markdown",
   "metadata": {},
   "source": [
    "# 学習"
   ]
  },
  {
   "cell_type": "code",
   "execution_count": 11,
   "metadata": {},
   "outputs": [
    {
     "data": {
      "text/plain": [
       "RandomForestClassifier(bootstrap=True, class_weight=None, criterion='gini',\n",
       "            max_depth=10, max_features='auto', max_leaf_nodes=None,\n",
       "            min_impurity_decrease=0.0, min_impurity_split=None,\n",
       "            min_samples_leaf=1, min_samples_split=2,\n",
       "            min_weight_fraction_leaf=0.0, n_estimators=10, n_jobs=2,\n",
       "            oob_score=False, random_state=0, verbose=0, warm_start=False)"
      ]
     },
     "execution_count": 11,
     "metadata": {},
     "output_type": "execute_result"
    }
   ],
   "source": [
    "from sklearn.ensemble import RandomForestClassifier\n",
    "from sklearn.datasets import make_classification\n",
    "\n",
    "clf = RandomForestClassifier(max_depth=10,random_state=0,n_estimators=10, n_jobs=2)\n",
    "clf.fit(X_train, y_train)"
   ]
  },
  {
   "cell_type": "markdown",
   "metadata": {},
   "source": [
    "# accuracyを求めよ\n",
    "## 精度を高める\n",
    "この課題では75%以上の精度が出ていた場合、合格とします。"
   ]
  },
  {
   "cell_type": "code",
   "execution_count": 12,
   "metadata": {},
   "outputs": [
    {
     "data": {
      "text/plain": [
       "0.81564245810055869"
      ]
     },
     "execution_count": 12,
     "metadata": {},
     "output_type": "execute_result"
    }
   ],
   "source": [
    "from sklearn.metrics import (roc_curve, auc, accuracy_score)\n",
    "pred=clf.predict(X_test)\n",
    "accuracy_score(y_test,pred)"
   ]
  },
  {
   "cell_type": "markdown",
   "metadata": {},
   "source": [
    "# ハイパーパラメータについて\n",
    "- ハイパーパラメーターとは何か  \n",
    "モデルがデータセットで学習する前に人間があらかじめ設定しておかなければならないパラメータ。\n",
    "\n",
    "- ランダムフォレストにおいてどのようなハイパーパラメーターがあるか4つ以上記述せよ  \n",
    "　 　n_estimators、criterion、max_features、 max_depth\n",
    "- 記述したハイパーパラメーターにおいて、それぞれどのような値が存在するか記述せよ（そのハイパーパラメーターを変化させるとどのようなことが起きるかも記述すること）  \n",
    "\n",
    "   - n_estimators  \n",
    "     整数を指定する。デフォルトの値は10。決定木の個数を指定する。個数を増やせば学習データの精度は上がるが過学習が起こる可能性がある。\n",
    "   - criterion  \n",
    "     文字列を指定し、デフォルトは mse(平均二乗誤差)で、その他に 　gini,entropyなどがある。決定木がデータを分割する基準とする指標を指定する。\n",
    "     分割した結果どの程度情報が整理されたかを算出する方法を選択する。\n",
    "   - max_features  \n",
    "   整数，小数，文字列または None を指定できる。デフォルトは None。最適な分割をするために考慮する特徴量の数を指定する。整数を指定した場合，その個数，小数の場合全フィーチャーに対する割合個，auto を指定した場合，フィーチャー数のルート個，log2 を指定した場合，log2(フィーチャー数) 個で基本は None を使うべき。値が大きいと似たような決定木が増え、小さいと決定木がばらけるがデータに適合できにくくなる。\n",
    "   - max_depth  \n",
    "     整数または None を指定できる。決定木の深さの最大値になる。この値を上げることでモデルの精度も上がるが過学習も発生する。\n"
   ]
  },
  {
   "cell_type": "markdown",
   "metadata": {},
   "source": [
    " # チューニング"
   ]
  },
  {
   "cell_type": "code",
   "execution_count": 13,
   "metadata": {
    "scrolled": true
   },
   "outputs": [],
   "source": [
    "from sklearn.ensemble import RandomForestClassifier\n",
    "from sklearn.metrics import accuracy_score\n",
    "import warnings\n",
    "warnings.filterwarnings('ignore')\n",
    "\n",
    "scores= []\n",
    "params=[]\n",
    "for n_estimators in [4, 6, 9]:\n",
    "    for max_feature in ['log2', 'sqrt','auto']:\n",
    "        for criterion in ['entropy', 'gini']:\n",
    "            for max_depth in [2, 3, 5, 10]:\n",
    "                for min_samples_split in [2, 3, 5]:     \n",
    "                    for min_samples_leaf in [1,5,8]:\n",
    "                        clf = RandomForestClassifier(n_estimators=n_estimators,\\\n",
    "                                                                           max_features=max_feature,\\\n",
    "                                                                           criterion= criterion,\\\n",
    "                                                                           max_depth=max_depth,\\\n",
    "                                                                            min_samples_split= min_samples_split,\\\n",
    "                                                                            min_samples_leaf= min_samples_leaf)\n",
    "                        #clfにfit\n",
    "                        clf.fit(X_train, y_train.as_matrix().reshape(-1,))\n",
    "                        #predict\n",
    "                        y_pred = clf.predict(X_test) \n",
    "                        # スコアさんしゅつ\n",
    "                        score = accuracy_score(y_test, y_pred)\n",
    "                        # スコアのappend?\n",
    "                        scores.append(score)\n",
    "                        params.append(list([n_estimators,\\\n",
    "                                                            max_feature,\\\n",
    "                                                            criterion,\\\n",
    "                                                            max_depth,\\\n",
    "                                                            min_samples_split,\\\n",
    "                                                            min_samples_leaf]))"
   ]
  },
  {
   "cell_type": "code",
   "execution_count": 14,
   "metadata": {
    "scrolled": true
   },
   "outputs": [],
   "source": [
    "scores=pd.DataFrame(scores)\n",
    "scores.columns=['score']"
   ]
  },
  {
   "cell_type": "code",
   "execution_count": 15,
   "metadata": {},
   "outputs": [],
   "source": [
    "params=pd.DataFrame(params)\n",
    "params.columns=['n_estimators','max_features','criterion','max_depth',\n",
    "                                'min_samples_split','min_samples_leaf']"
   ]
  },
  {
   "cell_type": "markdown",
   "metadata": {},
   "source": [
    "###  ベストスコアと最適化されたパラメータ"
   ]
  },
  {
   "cell_type": "code",
   "execution_count": 16,
   "metadata": {},
   "outputs": [
    {
     "data": {
      "text/plain": [
       "score                0.832402\n",
       "n_estimators                9\n",
       "max_features             sqrt\n",
       "criterion                gini\n",
       "max_depth                  10\n",
       "min_samples_split           5\n",
       "min_samples_leaf            8\n",
       "dtype: object"
      ]
     },
     "execution_count": 16,
     "metadata": {},
     "output_type": "execute_result"
    }
   ],
   "source": [
    "scores.join(params).max()"
   ]
  },
  {
   "cell_type": "markdown",
   "metadata": {},
   "source": [
    "#  検証について記述せよ"
   ]
  },
  {
   "cell_type": "markdown",
   "metadata": {},
   "source": [
    "### 検証は何か  \n",
    "機械学習のモデルが未知のデータに対してどの程度正しく予測できるのかという汎化性能を評価すること。\n",
    "\n",
    "### なぜ検証を行う必要があるのか(Accuracyだけではダメな理由も含めること)  \n",
    "学習モデルの汎用性を評価し、より汎用性を高めるための改善に必要になる。\n",
    "例えば二値分類に関してモデルの検証を行う場合の手法に、正解率（accuracy）、recall(再現率)、適合率（precision）,F値などがある。病気診断を考える場合、病気でありながら放置する誤診発生をリスクを減らすことが重要になる。その場合にRecallが適切な評価方法になる。  \n",
    "一方、スパムメール判定モデルの精度を評価したい場合、スパムである、ないと実際に分類した結果がどの程度正解かで精度が変わるので、Accuracy(正解率)が適切な評価方法になる。このようにモデルを使う目的などで評価方法が変わってくるため複数の評価方法が必要になる。\n",
    "\n",
    "\n",
    "### 主な検証方法について2つ以上記述せよ  \n",
    "\n",
    " - 正解率 Accuracy  \n",
    "２値分類でモデル評価を行う際に、予測に対して答えがどのくらい合っていたかを数値であらわした指標。\n",
    "\n",
    " - ホールドアウト法  \n",
    "元のデータをトレーニングデータとテストデータに分割し、トレーニングデータセットはモデルのトレーニングに使用され、テストデータセットはモデルの性能を評価するために使用する。デメリットはトレーニングデータセットはテストデータの分け方によって性能評価がかなり変わってしまう。\n"
   ]
  },
  {
   "cell_type": "markdown",
   "metadata": {},
   "source": [
    "#  KFoldについて記述せよ"
   ]
  },
  {
   "cell_type": "markdown",
   "metadata": {},
   "source": [
    "データ数が少ないときに、有効なモデルを評価する手法。  \n",
    "データをK個に分割しそのうち１つをテストとし、残るK-1個のデータを学習用テータとする。この分割はランダム。そして、データ分割が完了したら、実際にK-1個のデータセットで学習を行い、1つに分割されたテストデータでテストを行う。  \n",
    " Kの値は大きければ大きいほど、正確にモデルを評価でき、最大値はサンプル数で「K= サンプル数」とした場合が最も正確な評価だと言える。\n",
    "この学習、テストの作業を分割されたK個のそれぞれのデータの組み合わせに対してK回繰り返し、検証結果は、最後に各回で導き出した精度を平均化させる。"
   ]
  },
  {
   "cell_type": "markdown",
   "metadata": {},
   "source": [
    "# KFoldを実施する"
   ]
  },
  {
   "cell_type": "markdown",
   "metadata": {},
   "source": [
    "### accuracyをスコアに設定し５個に分割して実施"
   ]
  },
  {
   "cell_type": "code",
   "execution_count": 17,
   "metadata": {},
   "outputs": [],
   "source": [
    "from sklearn.model_selection import KFold\n",
    "from sklearn.model_selection import cross_validate\n",
    "\n",
    "scoring = 'accuracy'\n",
    "kfold = KFold(n_splits=5, random_state=42)\n",
    "clf = RandomForestClassifier(criterion='gini', max_depth=10,\n",
    "                                                    max_features= 'sqrt', min_samples_leaf = 5,\n",
    "                                                    min_samples_split=8 ,n_estimators=9)\n",
    "#result = clf.fit(X_train,y_train, cv = , scoring = \"accuracy\")\n",
    "scores = cross_validate(clf, X_train, y_train, scoring=scoring, cv=kfold)"
   ]
  },
  {
   "cell_type": "markdown",
   "metadata": {},
   "source": [
    "# Kfoldの結果を確認する"
   ]
  },
  {
   "cell_type": "markdown",
   "metadata": {},
   "source": [
    "K分割のうちのテストデータで５回検証したスコアは以下の通りで、ほぼ近い値が出ていることが確認できるので、モデルの精度として信頼できる。"
   ]
  },
  {
   "cell_type": "code",
   "execution_count": 18,
   "metadata": {},
   "outputs": [
    {
     "data": {
      "text/plain": [
       "array([ 0.81818182,  0.88111888,  0.79577465,  0.83098592,  0.81690141])"
      ]
     },
     "execution_count": 18,
     "metadata": {},
     "output_type": "execute_result"
    }
   ],
   "source": [
    "scores['test_score']"
   ]
  },
  {
   "cell_type": "markdown",
   "metadata": {},
   "source": [
    "最終的にモデルの予測値とテストデータでaccuracyの値を確認。"
   ]
  },
  {
   "cell_type": "code",
   "execution_count": 19,
   "metadata": {},
   "outputs": [
    {
     "data": {
      "text/plain": [
       "0.79329608938547491"
      ]
     },
     "execution_count": 19,
     "metadata": {},
     "output_type": "execute_result"
    }
   ],
   "source": [
    "from sklearn.metrics import accuracy_score\n",
    "clf.fit(X_train, y_train)\n",
    "y_pred = clf.predict(X_test) \n",
    "accuracy_score(y_test, y_pred)"
   ]
  },
  {
   "cell_type": "markdown",
   "metadata": {},
   "source": [
    "# どの特徴量が重要であったかを調査する\n",
    "\n",
    "重要な特徴量を左から順に棒グラフで表示する。"
   ]
  },
  {
   "cell_type": "code",
   "execution_count": 20,
   "metadata": {
    "scrolled": false
   },
   "outputs": [
    {
     "name": "stdout",
     "output_type": "stream",
     "text": [
      "1   Sex   0.375730365535\n",
      "2   NamePrefix   0.12876746106\n",
      "3   Cabin   0.114465414918\n",
      "4   Lname   0.104810786054\n",
      "5   Pclass   0.102555915745\n",
      "6   SibSp   0.0717867825025\n",
      "7   Fare   0.0472497066074\n",
      "8   Age   0.032075885077\n",
      "9   Parch   0.0225576825015\n"
     ]
    },
    {
     "data": {
      "image/png": "[encoded data removed]",
      "text/plain": [
       "<matplotlib.figure.Figure at 0x120054748>"
      ]
     },
     "metadata": {},
     "output_type": "display_data"
    }
   ],
   "source": [
    "feature=clf.feature_importances_\n",
    "#特徴量の重要度を上から順に出力する\n",
    "f = pd.DataFrame({'number': range(0, len(feature)),\n",
    "             'feature': feature[:]})\n",
    "f2 = f.sort_values('feature',ascending=False)\n",
    "f3 = f2.ix[:, 'number']\n",
    "\n",
    "#特徴量の名前\n",
    "label = X.columns[0:]\n",
    "\n",
    "#特徴量の重要度順（降順）\n",
    "indices = np.argsort(feature)[::-1]\n",
    "\n",
    "for i in range(len(feature)):\n",
    "    print(str(i + 1) + \"   \" + str(label[indices[i]]) + \"   \" + str(feature[indices[i]]))\n",
    "plt.figure(figsize=(12,8))\n",
    "plt.title('Feature Importance')\n",
    "plt.bar(range(len(feature)),feature[indices], color='lightblue', align='center')\n",
    "plt.xticks(range(len(feature)), label[indices], rotation=90)\n",
    "plt.xlim([-1, len(feature)])\n",
    "plt.tight_layout()\n",
    "plt.show()"
   ]
  }
 ],
 "metadata": {
  "kernelspec": {
   "display_name": "Python 3",
   "language": "python",
   "name": "python3"
  },
  "language_info": {
   "codemirror_mode": {
    "name": "ipython",
    "version": 3
   },
   "file_extension": ".py",
   "mimetype": "text/x-python",
   "name": "python",
   "nbconvert_exporter": "python",
   "pygments_lexer": "ipython3",
   "version": "3.6.2"
  }
 },
 "nbformat": 4,
 "nbformat_minor": 2
}
