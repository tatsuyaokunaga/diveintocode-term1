{
 "cells": [
  {
   "cell_type": "markdown",
   "metadata": {},
   "source": [
    " # sprint3-ml-scratch-logistic-regression"
   ]
  },
  {
   "cell_type": "markdown",
   "metadata": {},
   "source": [
    " ## 前提知識の説明"
   ]
  },
  {
   "cell_type": "markdown",
   "metadata": {},
   "source": [
    "## ロジスティック回帰とは\n",
    "\n",
    "分類問題で使用するモデルで非常に実装しやすいものの、高い性能が発揮されるのは線形分離可能なクラスに対してのみ。  \n",
    "ロジスティック回帰は産業界において最も広く使用されている分類のアルゴリズムの一つ。"
   ]
  },
  {
   "cell_type": "markdown",
   "metadata": {},
   "source": [
    "## 交差エントロピー誤差関数とは\n",
    "\n",
    "線形回帰では、二乗誤差関数をコスト関数に使用しますが、ロジスティック回帰で２値分類を行うときに使うコスト関数が、以下の交差エントロピー誤差関数です。\n",
    "\n",
    " $\n",
    " \\displaystyle J(\\theta) = \\frac{1}{m} \\sum_{i=1}^m [-y^{(i)} \\log(h_{\\theta}(x^{(i)})) - (1-y^{(i)}) \\log(1-h_{\\theta}(x^{(i)}))]\n",
    " $"
   ]
  },
  {
   "cell_type": "markdown",
   "metadata": {},
   "source": [
    "## データ・セットの用意"
   ]
  },
  {
   "cell_type": "markdown",
   "metadata": {},
   "source": [
    "## ２値分類"
   ]
  },
  {
   "cell_type": "markdown",
   "metadata": {},
   "source": [
    "## EDA"
   ]
  },
  {
   "cell_type": "markdown",
   "metadata": {},
   "source": [
    "今回は与えられたデータセットを以下の二種の異なるアヤメに分類する分類問題です。"
   ]
  },
  {
   "cell_type": "markdown",
   "metadata": {},
   "source": [
    "- Iris-versicolor\n",
    "- Iris-virginica"
   ]
  },
  {
   "cell_type": "code",
   "execution_count": 30,
   "metadata": {
    "collapsed": true
   },
   "outputs": [],
   "source": [
    "import pandas as pd\n",
    "import numpy as np\n",
    "import matplotlib.pyplot as plt\n",
    "%matplotlib inline\n",
    "import seaborn as sns\n",
    "from numpy.random import*\n",
    "import warnings\n",
    "warnings.filterwarnings('ignore')"
   ]
  },
  {
   "cell_type": "code",
   "execution_count": 31,
   "metadata": {
    "collapsed": true
   },
   "outputs": [],
   "source": [
    "# データセットをダウンロード\n",
    "train_df = pd.read_csv(\"iris/Iris.csv\")"
   ]
  },
  {
   "cell_type": "code",
   "execution_count": 32,
   "metadata": {
    "scrolled": true
   },
   "outputs": [
    {
     "data": {
      "text/html": [
       "<div>\n",
       "<style scoped>\n",
       "    .dataframe tbody tr th:only-of-type {\n",
       "        vertical-align: middle;\n",
       "    }\n",
       "\n",
       "    .dataframe tbody tr th {\n",
       "        vertical-align: top;\n",
       "    }\n",
       "\n",
       "    .dataframe thead th {\n",
       "        text-align: right;\n",
       "    }\n",
       "</style>\n",
       "<table border=\"1\" class=\"dataframe\">\n",
       "  <thead>\n",
       "    <tr style=\"text-align: right;\">\n",
       "      <th></th>\n",
       "      <th>Id</th>\n",
       "      <th>SepalLengthCm</th>\n",
       "      <th>SepalWidthCm</th>\n",
       "      <th>PetalLengthCm</th>\n",
       "      <th>PetalWidthCm</th>\n",
       "      <th>Species</th>\n",
       "    </tr>\n",
       "  </thead>\n",
       "  <tbody>\n",
       "    <tr>\n",
       "      <th>0</th>\n",
       "      <td>1</td>\n",
       "      <td>5.1</td>\n",
       "      <td>3.5</td>\n",
       "      <td>1.4</td>\n",
       "      <td>0.2</td>\n",
       "      <td>Iris-setosa</td>\n",
       "    </tr>\n",
       "    <tr>\n",
       "      <th>1</th>\n",
       "      <td>2</td>\n",
       "      <td>4.9</td>\n",
       "      <td>3.0</td>\n",
       "      <td>1.4</td>\n",
       "      <td>0.2</td>\n",
       "      <td>Iris-setosa</td>\n",
       "    </tr>\n",
       "    <tr>\n",
       "      <th>2</th>\n",
       "      <td>3</td>\n",
       "      <td>4.7</td>\n",
       "      <td>3.2</td>\n",
       "      <td>1.3</td>\n",
       "      <td>0.2</td>\n",
       "      <td>Iris-setosa</td>\n",
       "    </tr>\n",
       "    <tr>\n",
       "      <th>3</th>\n",
       "      <td>4</td>\n",
       "      <td>4.6</td>\n",
       "      <td>3.1</td>\n",
       "      <td>1.5</td>\n",
       "      <td>0.2</td>\n",
       "      <td>Iris-setosa</td>\n",
       "    </tr>\n",
       "    <tr>\n",
       "      <th>4</th>\n",
       "      <td>5</td>\n",
       "      <td>5.0</td>\n",
       "      <td>3.6</td>\n",
       "      <td>1.4</td>\n",
       "      <td>0.2</td>\n",
       "      <td>Iris-setosa</td>\n",
       "    </tr>\n",
       "  </tbody>\n",
       "</table>\n",
       "</div>"
      ],
      "text/plain": [
       "   Id  SepalLengthCm  SepalWidthCm  PetalLengthCm  PetalWidthCm      Species\n",
       "0   1            5.1           3.5            1.4           0.2  Iris-setosa\n",
       "1   2            4.9           3.0            1.4           0.2  Iris-setosa\n",
       "2   3            4.7           3.2            1.3           0.2  Iris-setosa\n",
       "3   4            4.6           3.1            1.5           0.2  Iris-setosa\n",
       "4   5            5.0           3.6            1.4           0.2  Iris-setosa"
      ]
     },
     "execution_count": 32,
     "metadata": {},
     "output_type": "execute_result"
    }
   ],
   "source": [
    "train_df.head()"
   ]
  },
  {
   "cell_type": "markdown",
   "metadata": {},
   "source": [
    "データセットは150行で、特徴量は５です。欠損値はありません。"
   ]
  },
  {
   "cell_type": "code",
   "execution_count": 33,
   "metadata": {
    "scrolled": true
   },
   "outputs": [
    {
     "name": "stdout",
     "output_type": "stream",
     "text": [
      "<class 'pandas.core.frame.DataFrame'>\n",
      "RangeIndex: 150 entries, 0 to 149\n",
      "Data columns (total 6 columns):\n",
      "Id               150 non-null int64\n",
      "SepalLengthCm    150 non-null float64\n",
      "SepalWidthCm     150 non-null float64\n",
      "PetalLengthCm    150 non-null float64\n",
      "PetalWidthCm     150 non-null float64\n",
      "Species          150 non-null object\n",
      "dtypes: float64(4), int64(1), object(1)\n",
      "memory usage: 7.1+ KB\n"
     ]
    }
   ],
   "source": [
    "train_df.info()"
   ]
  },
  {
   "cell_type": "markdown",
   "metadata": {},
   "source": [
    "今回のラベル値のSpeciesの各値をカウントしましょう。3種類のアヤメは50行ずつ数値データが割り当てられています。"
   ]
  },
  {
   "cell_type": "code",
   "execution_count": 34,
   "metadata": {},
   "outputs": [
    {
     "data": {
      "text/plain": [
       "Iris-versicolor    50\n",
       "Iris-setosa        50\n",
       "Iris-virginica     50\n",
       "Name: Species, dtype: int64"
      ]
     },
     "execution_count": 34,
     "metadata": {},
     "output_type": "execute_result"
    }
   ],
   "source": [
    "train_df[\"Species\"].value_counts()"
   ]
  },
  {
   "cell_type": "markdown",
   "metadata": {},
   "source": [
    "Speciesごとに色分けして散布図にプロットします。"
   ]
  },
  {
   "cell_type": "code",
   "execution_count": 35,
   "metadata": {},
   "outputs": [
    {
     "data": {
      "text/plain": [
       "<seaborn.axisgrid.FacetGrid at 0x201fdb1d68>"
      ]
     },
     "execution_count": 35,
     "metadata": {},
     "output_type": "execute_result"
    },
    {
     "data": {
      "image/png": "[encoded data removed]",
      "text/plain": [
       "<Figure size 463.5x360 with 1 Axes>"
      ]
     },
     "metadata": {},
     "output_type": "display_data"
    }
   ],
   "source": [
    "sns.FacetGrid(train_df,hue='Species',size=5).map(plt.scatter,'SepalLengthCm','SepalWidthCm')\\\n",
    "         .add_legend()"
   ]
  },
  {
   "cell_type": "markdown",
   "metadata": {},
   "source": [
    "箱ひげ図で三種類のアヤメのPetalLengthCmをy軸にプロットして、違いがどのように現れるか確認します。今回分類する二種のアヤメの間には、一部の領域に重複が見られます。"
   ]
  },
  {
   "cell_type": "code",
   "execution_count": 36,
   "metadata": {},
   "outputs": [
    {
     "data": {
      "text/plain": [
       "<matplotlib.axes._subplots.AxesSubplot at 0x201fe191d0>"
      ]
     },
     "execution_count": 36,
     "metadata": {},
     "output_type": "execute_result"
    },
    {
     "data": {
      "image/png": "[encoded data removed]",
      "text/plain": [
       "<Figure size 432x288 with 1 Axes>"
      ]
     },
     "metadata": {},
     "output_type": "display_data"
    }
   ],
   "source": [
    "sns.boxplot(x='Species',y='PetalLengthCm',data=train_df)"
   ]
  },
  {
   "cell_type": "markdown",
   "metadata": {},
   "source": [
    "pairplotで三種のアヤメの全ての特徴量との相関をみます。\n",
    "ここでもsetosaは他の二種と分類されて表示され、今回分類するversicolorとvirginicaは一部重なっていることがわかります。"
   ]
  },
  {
   "cell_type": "code",
   "execution_count": 37,
   "metadata": {},
   "outputs": [
    {
     "data": {
      "text/plain": [
       "<seaborn.axisgrid.PairGrid at 0x201ff96c50>"
      ]
     },
     "execution_count": 37,
     "metadata": {},
     "output_type": "execute_result"
    },
    {
     "data": {
      "image/png": "[encoded data removed]",
      "text/plain": [
       "<Figure size 967.5x864 with 20 Axes>"
      ]
     },
     "metadata": {},
     "output_type": "display_data"
    }
   ],
   "source": [
    "sns.pairplot(train_df.drop('Id',axis=1),hue='Species',size=3)"
   ]
  },
  {
   "cell_type": "markdown",
   "metadata": {},
   "source": [
    "データセットから'Iris-setosa'を含む行を削除し、特徴量（説明変数）のみに分割します。"
   ]
  },
  {
   "cell_type": "code",
   "execution_count": 38,
   "metadata": {
    "collapsed": true,
    "scrolled": true
   },
   "outputs": [],
   "source": [
    "train_df=train_df[train_df['Species']!='Iris-setosa']\n",
    "# カラム'Id','Species'を削除\n",
    "X=train_df.drop(['Id','Species'],axis=1)\n",
    "X=np.array(X.reset_index(drop=True))\n",
    "# コスト関数の定数項用のカラムを増やす\n",
    "X=pd.DataFrame(np.insert(X,0,1,axis=1))"
   ]
  },
  {
   "cell_type": "code",
   "execution_count": 39,
   "metadata": {
    "scrolled": true
   },
   "outputs": [
    {
     "data": {
      "text/html": [
       "<div>\n",
       "<style scoped>\n",
       "    .dataframe tbody tr th:only-of-type {\n",
       "        vertical-align: middle;\n",
       "    }\n",
       "\n",
       "    .dataframe tbody tr th {\n",
       "        vertical-align: top;\n",
       "    }\n",
       "\n",
       "    .dataframe thead th {\n",
       "        text-align: right;\n",
       "    }\n",
       "</style>\n",
       "<table border=\"1\" class=\"dataframe\">\n",
       "  <thead>\n",
       "    <tr style=\"text-align: right;\">\n",
       "      <th></th>\n",
       "      <th>0</th>\n",
       "      <th>SepalLengthCm</th>\n",
       "      <th>SepalWidthCm</th>\n",
       "      <th>PetalLengthCm</th>\n",
       "      <th>PetalWidthCm</th>\n",
       "    </tr>\n",
       "  </thead>\n",
       "  <tbody>\n",
       "    <tr>\n",
       "      <th>0</th>\n",
       "      <td>1.0</td>\n",
       "      <td>7.0</td>\n",
       "      <td>3.2</td>\n",
       "      <td>4.7</td>\n",
       "      <td>1.4</td>\n",
       "    </tr>\n",
       "    <tr>\n",
       "      <th>1</th>\n",
       "      <td>1.0</td>\n",
       "      <td>6.4</td>\n",
       "      <td>3.2</td>\n",
       "      <td>4.5</td>\n",
       "      <td>1.5</td>\n",
       "    </tr>\n",
       "    <tr>\n",
       "      <th>2</th>\n",
       "      <td>1.0</td>\n",
       "      <td>6.9</td>\n",
       "      <td>3.1</td>\n",
       "      <td>4.9</td>\n",
       "      <td>1.5</td>\n",
       "    </tr>\n",
       "    <tr>\n",
       "      <th>3</th>\n",
       "      <td>1.0</td>\n",
       "      <td>5.5</td>\n",
       "      <td>2.3</td>\n",
       "      <td>4.0</td>\n",
       "      <td>1.3</td>\n",
       "    </tr>\n",
       "    <tr>\n",
       "      <th>4</th>\n",
       "      <td>1.0</td>\n",
       "      <td>6.5</td>\n",
       "      <td>2.8</td>\n",
       "      <td>4.6</td>\n",
       "      <td>1.5</td>\n",
       "    </tr>\n",
       "  </tbody>\n",
       "</table>\n",
       "</div>"
      ],
      "text/plain": [
       "     0  SepalLengthCm  SepalWidthCm  PetalLengthCm  PetalWidthCm\n",
       "0  1.0            7.0           3.2            4.7           1.4\n",
       "1  1.0            6.4           3.2            4.5           1.5\n",
       "2  1.0            6.9           3.1            4.9           1.5\n",
       "3  1.0            5.5           2.3            4.0           1.3\n",
       "4  1.0            6.5           2.8            4.6           1.5"
      ]
     },
     "execution_count": 39,
     "metadata": {},
     "output_type": "execute_result"
    }
   ],
   "source": [
    "X=X.rename(columns={1:\"SepalLengthCm\",2:\"SepalWidthCm\",3:\"PetalLengthCm\",4:\"PetalWidthCm\"})\n",
    "X.head()"
   ]
  },
  {
   "cell_type": "markdown",
   "metadata": {},
   "source": [
    "### 目的変数の値をyに入れる\n",
    "### ラベルデータをone-hot、二値分類のため「Iris-virginica」データを削除する"
   ]
  },
  {
   "cell_type": "code",
   "execution_count": 40,
   "metadata": {},
   "outputs": [
    {
     "data": {
      "text/html": [
       "<div>\n",
       "<style scoped>\n",
       "    .dataframe tbody tr th:only-of-type {\n",
       "        vertical-align: middle;\n",
       "    }\n",
       "\n",
       "    .dataframe tbody tr th {\n",
       "        vertical-align: top;\n",
       "    }\n",
       "\n",
       "    .dataframe thead th {\n",
       "        text-align: right;\n",
       "    }\n",
       "</style>\n",
       "<table border=\"1\" class=\"dataframe\">\n",
       "  <thead>\n",
       "    <tr style=\"text-align: right;\">\n",
       "      <th></th>\n",
       "      <th>Iris-versicolor</th>\n",
       "    </tr>\n",
       "  </thead>\n",
       "  <tbody>\n",
       "    <tr>\n",
       "      <th>0</th>\n",
       "      <td>1</td>\n",
       "    </tr>\n",
       "    <tr>\n",
       "      <th>1</th>\n",
       "      <td>1</td>\n",
       "    </tr>\n",
       "    <tr>\n",
       "      <th>2</th>\n",
       "      <td>1</td>\n",
       "    </tr>\n",
       "    <tr>\n",
       "      <th>3</th>\n",
       "      <td>1</td>\n",
       "    </tr>\n",
       "    <tr>\n",
       "      <th>4</th>\n",
       "      <td>1</td>\n",
       "    </tr>\n",
       "  </tbody>\n",
       "</table>\n",
       "</div>"
      ],
      "text/plain": [
       "   Iris-versicolor\n",
       "0                1\n",
       "1                1\n",
       "2                1\n",
       "3                1\n",
       "4                1"
      ]
     },
     "execution_count": 40,
     "metadata": {},
     "output_type": "execute_result"
    }
   ],
   "source": [
    "y = train_df[[\"Species\"]]\n",
    "y=y.reset_index(drop=True)\n",
    "y=pd.get_dummies(y[\"Species\"])\n",
    "y = y.astype('int8')\n",
    "y = y.reset_index(drop=True)\n",
    "y = y.drop(\"Iris-virginica\",axis=1)\n",
    "y.head()"
   ]
  },
  {
   "cell_type": "markdown",
   "metadata": {},
   "source": [
    "# 数式の実装"
   ]
  },
  {
   "cell_type": "markdown",
   "metadata": {},
   "source": [
    "##  シグモイド関数"
   ]
  },
  {
   "cell_type": "markdown",
   "metadata": {},
   "source": [
    "$$ g(z) = \\frac{1}{1+e^{−z}}.\n",
    "$$"
   ]
  },
  {
   "cell_type": "code",
   "execution_count": 41,
   "metadata": {
    "collapsed": true,
    "scrolled": true
   },
   "outputs": [],
   "source": [
    "def sigmoid(X,theta):\n",
    "    z=np.dot(X,theta)\n",
    "    return (1/(1+np.exp(-z)))\n",
    "\n",
    "        \n",
    "np.random.seed(seed=10)\n",
    "theta=np.random.rand(5,1)\n",
    "s =sigmoid(X,theta)"
   ]
  },
  {
   "cell_type": "code",
   "execution_count": 42,
   "metadata": {},
   "outputs": [
    {
     "data": {
      "text/plain": [
       "99.88949840901059"
      ]
     },
     "execution_count": 42,
     "metadata": {},
     "output_type": "execute_result"
    }
   ],
   "source": [
    "s.sum()"
   ]
  },
  {
   "cell_type": "markdown",
   "metadata": {},
   "source": [
    "## シグモイド関数の説明\n",
    "### なぜ、ロジスティック回帰は、線形回帰と異なり出力をシグモイド関数を通して行うか説明せよ。\n"
   ]
  },
  {
   "cell_type": "markdown",
   "metadata": {},
   "source": [
    "シグモイド関数の値は0から１の範囲になるため確率と見ることができる。またロジスティック回帰は、サンプルデータがどのクラスに分類されるかを確率として表す。そのため、シグモイド関数を出力に用いる。"
   ]
  },
  {
   "cell_type": "markdown",
   "metadata": {},
   "source": [
    "## 正則化の説明"
   ]
  },
  {
   "cell_type": "markdown",
   "metadata": {},
   "source": [
    "ペネルティともいう。\n",
    "\n",
    "正則化は、パラメータの値を小さくさせる効果をもたらし、その変数の影響を小さくできます。  \n",
    "モデルが学習する中で、不要なパラメータの影響を小さくすることで、複雑なモデルの過学習を防ぐことが可能になります。  \n",
    "ただし、パラメータの $θ_{0}$には正則化項は存在しません。  "
   ]
  },
  {
   "cell_type": "markdown",
   "metadata": {},
   "source": [
    "## ロジスティック回帰における、目的関数（コスト関数）"
   ]
  },
  {
   "cell_type": "markdown",
   "metadata": {},
   "source": [
    "$\n",
    "h_θ(x) = g(θ^T x).\\\\\n",
    "g(z) = \\frac{1}{1+e^{−z}}.\\\\\n",
    "J(\\theta)=  \\frac{1}{m}  \\sum_{i=1}^{m}[−y^{(i)} log(h_θ(x^{(i)})) − (1−y^{(i)}) log(1−h_θ(x^{(i)}))] +\n",
    "\\frac{λ}{2m}\\sum_{j=1}^n\n",
    "θ^2_j.\\\\\n",
    "$"
   ]
  },
  {
   "cell_type": "markdown",
   "metadata": {},
   "source": [
    "###  $θ,λ$の値を設定"
   ]
  },
  {
   "cell_type": "code",
   "execution_count": 71,
   "metadata": {},
   "outputs": [
    {
     "data": {
      "text/plain": [
       "3.9810861431956983"
      ]
     },
     "execution_count": 71,
     "metadata": {},
     "output_type": "execute_result"
    }
   ],
   "source": [
    "def compute_cost(X,y,theta):\n",
    "\n",
    "    h = sigmoid(X,theta)\n",
    "    ramda = 0.01\n",
    "    m = len(X)\n",
    "    theta[0]=0\n",
    "    J = (1/m)*(np.dot(-y.T,np.log(h)) - np.dot((1-y).T,np.log(1-h)))+\\\n",
    "                               (ramda/(2*m))*(theta**2).sum()\n",
    "    return J[0,0]\n",
    "        \n",
    "np.random.seed(seed=10)\n",
    "theta=np.random.rand(5,1)\n",
    "compute_cost(X,y,theta)"
   ]
  },
  {
   "cell_type": "code",
   "execution_count": 62,
   "metadata": {},
   "outputs": [
    {
     "data": {
      "text/plain": [
       "3.9810861431956983"
      ]
     },
     "execution_count": 62,
     "metadata": {},
     "output_type": "execute_result"
    }
   ],
   "source": [
    "# def compute_cost(X, y, theta):\n",
    "#     h = sigmoid(X,theta)\n",
    "#     lambda1=0.01\n",
    "#     m = len(X)\n",
    "#     J = (1/m) * (np.dot(-y.T , np.log(h)) - np.dot((1 - y).T , np.log(1-h)) ) \\\n",
    "#              + (lambda1/(2*m)) * ((theta*theta)*pd.DataFrame([0,1,1,1,1])).sum().values\n",
    "\n",
    "#     return J[0,0]\n",
    "\n",
    "# np.random.seed(seed=10)\n",
    "# theta=np.random.rand(5,1)\n",
    "# compute_cost(X, y,theta)"
   ]
  },
  {
   "cell_type": "markdown",
   "metadata": {},
   "source": [
    "## 二乗誤差と交差エントロピー誤差"
   ]
  },
  {
   "cell_type": "markdown",
   "metadata": {},
   "source": [
    "回帰問題では、目的関数により、二つの値の差の総和が小さいほどモデルの精度が高いことになる。  \n",
    "一方、ロジスティック回帰は回帰問題と同様に各特徴量にパラメータ（重み）をかけて足し合わせた関数を使用するが、全ての和の最大値を考えるのではなく、全ての値の分類の尤もらしさの確率が最大になることを考える。  \n",
    "\n",
    "そのような各学習データの確率をシグモイド関数の値（０から１までの範囲の値をとるため）で表している。その数値の確率を掛け合わせた同時確率が最大になるようにパラメータを調整し、分類の精度を上げていく。\n",
    "そのように実装されたものが交差エントロピー関数である。\n"
   ]
  },
  {
   "cell_type": "markdown",
   "metadata": {},
   "source": [
    "# テスト"
   ]
  },
  {
   "cell_type": "code",
   "execution_count": 64,
   "metadata": {},
   "outputs": [
    {
     "name": "stdout",
     "output_type": "stream",
     "text": [
      "CORRECT\n"
     ]
    },
    {
     "data": {
      "text/plain": [
       "True"
      ]
     },
     "execution_count": 64,
     "metadata": {},
     "output_type": "execute_result"
    }
   ],
   "source": [
    "# sigmoid functionテスト\n",
    "def sigmoid_test(X,theta):\n",
    "    z=np.dot(X,theta)\n",
    "    s = (1/(1+np.exp(-z)))\n",
    "    if s.sum() == 99.88949840901059:\n",
    "            print(\"CORRECT\")\n",
    "            return True\n",
    "\n",
    "    else:\n",
    "            print(\"INCORRECT\")\n",
    "            return False\n",
    "        \n",
    "np.random.seed(seed=10)\n",
    "theta=np.random.rand(5,1)\n",
    "sigmoid_test(X,theta)"
   ]
  },
  {
   "cell_type": "code",
   "execution_count": 73,
   "metadata": {},
   "outputs": [
    {
     "name": "stdout",
     "output_type": "stream",
     "text": [
      "CORRECT\n"
     ]
    },
    {
     "data": {
      "text/plain": [
       "True"
      ]
     },
     "execution_count": 73,
     "metadata": {},
     "output_type": "execute_result"
    }
   ],
   "source": [
    "# コスト関数のテスト\n",
    "def compute_cost_test(X,y,theta): #コスト関数    \n",
    "    h = sigmoid(X,theta)\n",
    "    ramda = 0.01\n",
    "    m = len(X)\n",
    "    J = (1/m)*(np.dot(-y.T,np.log(h)) - np.dot((1-y).T,np.log(1-h)))+\\\n",
    "                               (ramda/(2*m))*(theta**2).sum()\n",
    "    if J[0,0] < 4.0:\n",
    "        print(\"CORRECT\")\n",
    "        return True\n",
    "\n",
    "    else:\n",
    "        print(\"INCORRECT\")\n",
    "        return False\n",
    "\n",
    "np.random.seed(seed=10)\n",
    "theta=np.random.rand(5,1)\n",
    "compute_cost_test(X, y,theta)"
   ]
  },
  {
   "cell_type": "code",
   "execution_count": 182,
   "metadata": {},
   "outputs": [
    {
     "name": "stdout",
     "output_type": "stream",
     "text": [
      "CORRECT\n"
     ]
    },
    {
     "data": {
      "text/plain": [
       "True"
      ]
     },
     "execution_count": 182,
     "metadata": {},
     "output_type": "execute_result"
    }
   ],
   "source": [
    "# 最急降下法のテスト\n",
    "def gradient_descent_test(X, y, theta, iterations=1000, alpha=0.001):\n",
    "    m = len(X)\n",
    "    past_costs =[]\n",
    "    for _  in range(iterations):\n",
    "        past_costs.append(compute_cost(X, y, theta))\n",
    "        h_x_y = sigmoid(X , theta) - y\n",
    "        np_dot = np.dot(X.T , h_x_y)\n",
    "        ramda=0.01\n",
    "\n",
    "        theta  -= (alpha/m) * (np_dot + ramda*theta)\n",
    "    # 最終のコストが0.8未満を合格とする\n",
    "    if  past_costs[-1]<0.8:\n",
    "        print(\"CORRECT\")\n",
    "        return True\n",
    "    \n",
    "    else:\n",
    "        print(\"INCORRECT\")\n",
    "        return False\n",
    "\n",
    "np.random.seed(seed=10)\n",
    "theta=np.random.rand(5,1)\n",
    "gradient_descent_test(X, y, theta)"
   ]
  },
  {
   "cell_type": "code",
   "execution_count": 229,
   "metadata": {},
   "outputs": [
    {
     "name": "stdout",
     "output_type": "stream",
     "text": [
      "CORRECT\n"
     ]
    },
    {
     "data": {
      "text/plain": [
       "True"
      ]
     },
     "execution_count": 229,
     "metadata": {},
     "output_type": "execute_result"
    }
   ],
   "source": [
    "#予測テスト\n",
    "def predict_probs_tesxt(X, theta):\n",
    "    return sigmoid(X, theta)\n",
    "    \n",
    "def predict_test(X, theta, threshold=0.5):\n",
    "    \"\"\"\n",
    "    threshold: 閾値\n",
    "    \"\"\"\"\"\n",
    "    theta_x = np.dot(X,theta)\n",
    "    pred = np.sum((sigmoid(X,theta)>=threshold)[:50])  \n",
    "    \n",
    "    if pred>=45 :\n",
    "        print(\"CORRECT\")\n",
    "        return True\n",
    "    else:\n",
    "        print(\"INCORRECT\")\n",
    "        return False\n",
    "    \n",
    "        \n",
    "\n",
    "np.random.seed(seed=10)\n",
    "theta=np.random.rand(5,1)\n",
    "predict_test(X, theta)"
   ]
  },
  {
   "cell_type": "markdown",
   "metadata": {},
   "source": [
    "### θの初期値をランダムに設定（説明変数４個＋θ０用１個）"
   ]
  },
  {
   "cell_type": "markdown",
   "metadata": {},
   "source": [
    "## 最急降下法コード"
   ]
  },
  {
   "cell_type": "code",
   "execution_count": 236,
   "metadata": {},
   "outputs": [],
   "source": [
    " def gradient_descent(X, y, theta, iterations=1000, alpha=0.01):\n",
    "    m = len(X)\n",
    "    past_costs =[]\n",
    "    for _  in range(iterations):\n",
    "        past_costs.append(compute_cost(X, y, theta))\n",
    "        h_x_y = sigmoid(X , theta) - y\n",
    "        np_dot = np.dot(X.T , h_x_y)\n",
    "        ramda=0.05\n",
    "\n",
    "        theta  = theta - (alpha/m) * (np_dot + ramda*theta)\n",
    "        \n",
    "    return past_costs ,theta"
   ]
  },
  {
   "cell_type": "code",
   "execution_count": 237,
   "metadata": {},
   "outputs": [
    {
     "data": {
      "text/plain": [
       "[3.9810861431956983,\n",
       " 3.378175636167431,\n",
       " 3.1629609419575218,\n",
       " 2.9489533494216955,\n",
       " 2.7366791702628706,\n",
       " 2.5268842786654524,\n",
       " 2.3206121951972176,\n",
       " 2.119294816500638,\n",
       " 1.9248411999086659,\n",
       " 1.739691155835339,\n",
       " 1.5667756016262284,\n",
       " 1.409307993646818,\n",
       " 1.2703516900068539,\n",
       " 1.152201941338919,\n",
       " 1.0557749730171428,\n",
       " 0.9802962340202745,\n",
       " 0.9234804193970357,\n",
       " 0.8821206681510713,\n",
       " 0.85278804606616,\n",
       " 0.8323625774406885,\n",
       " 0.81829467324966,\n",
       " 0.8086476187175009,\n",
       " 0.8020208484518728,\n",
       " 0.7974339131251557,\n",
       " 0.7942147509783154,\n",
       " 0.7919087843015755,\n",
       " 0.7902110570757022,\n",
       " 0.7889179890967128,\n",
       " 0.7878940540514628,\n",
       " 0.7870491610101236,\n",
       " 0.7863234596081157,\n",
       " 0.7856771941809604,\n",
       " 0.785083952326245,\n",
       " 0.7845261802842155,\n",
       " 0.783992206426109,\n",
       " 0.7834742661114683,\n",
       " 0.782967190860059,\n",
       " 0.7824675381297386,\n",
       " 0.7819730133634681,\n",
       " 0.7814820859717037,\n",
       " 0.7809937340548486,\n",
       " 0.7805072746261787,\n",
       " 0.7800222506445815,\n",
       " 0.7795383558109656,\n",
       " 0.7790553844786543,\n",
       " 0.778573198272535,\n",
       " 0.778091703829633,\n",
       " 0.7776108379454492,\n",
       " 0.7771305576541462,\n",
       " 0.7766508335974537,\n",
       " 0.7761716455870022,\n",
       " 0.7756929796305655,\n",
       " 0.7752148259360951,\n",
       " 0.7747371775694748,\n",
       " 0.7742600295498134,\n",
       " 0.7737833782379836,\n",
       " 0.7733072209220158,\n",
       " 0.7728315555348942,\n",
       " 0.7723563804616115,\n",
       " 0.7718816944065665,\n",
       " 0.7714074963018865,\n",
       " 0.7709337852436147,\n",
       " 0.7704605604469555,\n",
       " 0.7699878212146241,\n",
       " 0.7695155669142578,\n",
       " 0.7690437969621422,\n",
       " 0.7685725108113638,\n",
       " 0.7681017079431015,\n",
       " 0.7676313878601535,\n",
       " 0.7671615500820802,\n",
       " 0.7666921941415235,\n",
       " 0.766223319581391,\n",
       " 0.7657549259526844,\n",
       " 0.7652870128128092,\n",
       " 0.7648195797242565,\n",
       " 0.7643526262535593,\n",
       " 0.7638861519704684,\n",
       " 0.7634201564472993,\n",
       " 0.7629546392584061,\n",
       " 0.7624895999797646,\n",
       " 0.7620250381886337,\n",
       " 0.761560953463287,\n",
       " 0.7610973453827914,\n",
       " 0.7606342135268336,\n",
       " 0.7601715574755762,\n",
       " 0.7597093768095429,\n",
       " 0.7592476711095256,\n",
       " 0.7587864399565093,\n",
       " 0.7583256829316116,\n",
       " 0.7578653996160326,\n",
       " 0.7574055895910163,\n",
       " 0.7569462524378192,\n",
       " 0.7564873877376838,\n",
       " 0.7560289950718182,\n",
       " 0.7555710740213809,\n",
       " 0.7551136241674671,\n",
       " 0.7546566450910978,\n",
       " 0.7542001363732143,\n",
       " 0.7537440975946696,\n",
       " 0.7532885283362254,\n",
       " 0.7528334281785473,\n",
       " 0.7523787967022041,\n",
       " 0.7519246334876651,\n",
       " 0.7514709381152992,\n",
       " 0.7510177101653746,\n",
       " 0.7505649492180588,\n",
       " 0.7501126548534194,\n",
       " 0.7496608266514239,\n",
       " 0.749209464191941,\n",
       " 0.748758567054742,\n",
       " 0.7483081348195011,\n",
       " 0.7478581670657978,\n",
       " 0.7474086633731176,\n",
       " 0.7469596233208534,\n",
       " 0.746511046488308,\n",
       " 0.7460629324546945,\n",
       " 0.7456152807991387,\n",
       " 0.7451680911006813,\n",
       " 0.7447213629382785,\n",
       " 0.7442750958908039,\n",
       " 0.743829289537051,\n",
       " 0.743383943455735,\n",
       " 0.7429390572254934,\n",
       " 0.7424946304248892,\n",
       " 0.7420506626324115,\n",
       " 0.7416071534264781,\n",
       " 0.7411641023854376,\n",
       " 0.7407215090875696,\n",
       " 0.7402793731110887,\n",
       " 0.7398376940341441,\n",
       " 0.7393964714348235,\n",
       " 0.7389557048911526,\n",
       " 0.7385153939810996,\n",
       " 0.7380755382825747,\n",
       " 0.7376361373734326,\n",
       " 0.737197190831475,\n",
       " 0.7367586982344515,\n",
       " 0.7363206591600617,\n",
       " 0.7358830731859569,\n",
       " 0.7354459398897424,\n",
       " 0.7350092588489779,\n",
       " 0.734573029641181,\n",
       " 0.7341372518438276,\n",
       " 0.7337019250343549,\n",
       " 0.7332670487901612,\n",
       " 0.7328326226886104,\n",
       " 0.7323986463070311,\n",
       " 0.7319651192227196,\n",
       " 0.7315320410129419,\n",
       " 0.7310994112549349,\n",
       " 0.7306672295259085,\n",
       " 0.730235495403046,\n",
       " 0.7298042084635079,\n",
       " 0.7293733682844328,\n",
       " 0.7289429744429381,\n",
       " 0.728513026516123,\n",
       " 0.7280835240810699,\n",
       " 0.7276544667148453,\n",
       " 0.7272258539945027,\n",
       " 0.7267976854970833,\n",
       " 0.7263699607996182,\n",
       " 0.7259426794791305,\n",
       " 0.7255158411126352,\n",
       " 0.7250894452771437,\n",
       " 0.7246634915496624,\n",
       " 0.7242379795071965,\n",
       " 0.7238129087267516,\n",
       " 0.7233882787853334,\n",
       " 0.7229640892599517,\n",
       " 0.7225403397276206,\n",
       " 0.7221170297653609,\n",
       " 0.7216941589502013,\n",
       " 0.7212717268591798,\n",
       " 0.7208497330693461,\n",
       " 0.7204281771577628,\n",
       " 0.7200070587015064,\n",
       " 0.7195863772776703,\n",
       " 0.7191661324633651,\n",
       " 0.7187463238357213,\n",
       " 0.7183269509718897,\n",
       " 0.717908013449044,\n",
       " 0.7174895108443818,\n",
       " 0.7170714427351268,\n",
       " 0.7166538086985292,\n",
       " 0.7162366083118692,\n",
       " 0.7158198411524564,\n",
       " 0.7154035067976333,\n",
       " 0.7149876048247751,\n",
       " 0.7145721348112926,\n",
       " 0.7141570963346335,\n",
       " 0.7137424889722832,\n",
       " 0.7133283123017673,\n",
       " 0.7129145659006525,\n",
       " 0.712501249346549,\n",
       " 0.7120883622171102,\n",
       " 0.7116759040900364,\n",
       " 0.7112638745430748,\n",
       " 0.7108522731540222,\n",
       " 0.7104410995007251,\n",
       " 0.7100303531610828,\n",
       " 0.7096200337130474,\n",
       " 0.7092101407346264,\n",
       " 0.7088006738038838,\n",
       " 0.7083916324989412,\n",
       " 0.7079830163979802,\n",
       " 0.7075748250792432,\n",
       " 0.7071670581210346,\n",
       " 0.7067597151017236,\n",
       " 0.706352795599744,\n",
       " 0.7059462991935967,\n",
       " 0.7055402254618509,\n",
       " 0.7051345739831459,\n",
       " 0.7047293443361918,\n",
       " 0.7043245360997713,\n",
       " 0.7039201488527417,\n",
       " 0.7035161821740351,\n",
       " 0.7031126356426615,\n",
       " 0.7027095088377086,\n",
       " 0.7023068013383442,\n",
       " 0.7019045127238175,\n",
       " 0.7015026425734602,\n",
       " 0.7011011904666877,\n",
       " 0.7007001559830016,\n",
       " 0.70029953870199,\n",
       " 0.6998993382033292,\n",
       " 0.6994995540667855,\n",
       " 0.6991001858722159,\n",
       " 0.6987012331995703,\n",
       " 0.6983026956288919,\n",
       " 0.6979045727403194,\n",
       " 0.6975068641140884,\n",
       " 0.6971095693305314,\n",
       " 0.6967126879700815,\n",
       " 0.6963162196132717,\n",
       " 0.6959201638407368,\n",
       " 0.6955245202332155,\n",
       " 0.6951292883715513,\n",
       " 0.6947344678366929,\n",
       " 0.6943400582096974,\n",
       " 0.6939460590717297,\n",
       " 0.6935524700040652,\n",
       " 0.6931592905880908,\n",
       " 0.6927665204053057,\n",
       " 0.6923741590373231,\n",
       " 0.6919822060658716,\n",
       " 0.6915906610727963,\n",
       " 0.6911995236400604,\n",
       " 0.6908087933497461,\n",
       " 0.6904184697840559,\n",
       " 0.6900285525253143,\n",
       " 0.6896390411559686,\n",
       " 0.6892499352585905,\n",
       " 0.6888612344158774,\n",
       " 0.6884729382106534,\n",
       " 0.6880850462258706,\n",
       " 0.6876975580446107,\n",
       " 0.6873104732500855,\n",
       " 0.6869237914256395,\n",
       " 0.6865375121547495,\n",
       " 0.6861516350210267,\n",
       " 0.6857661596082184,\n",
       " 0.6853810855002084,\n",
       " 0.6849964122810182,\n",
       " 0.684612139534809,\n",
       " 0.6842282668458827,\n",
       " 0.6838447937986817,\n",
       " 0.6834617199777925,\n",
       " 0.683079044967945,\n",
       " 0.6826967683540147,\n",
       " 0.6823148897210236,\n",
       " 0.681933408654141,\n",
       " 0.6815523247386852,\n",
       " 0.681171637560125,\n",
       " 0.6807913467040794,\n",
       " 0.6804114517563207,\n",
       " 0.6800319523027742,\n",
       " 0.6796528479295205,\n",
       " 0.6792741382227953,\n",
       " 0.6788958227689915,\n",
       " 0.6785179011546606,\n",
       " 0.678140372966513,\n",
       " 0.6777632377914198,\n",
       " 0.6773864952164135,\n",
       " 0.6770101448286893,\n",
       " 0.6766341862156061,\n",
       " 0.6762586189646882,\n",
       " 0.6758834426636259,\n",
       " 0.6755086569002762,\n",
       " 0.6751342612626648,\n",
       " 0.6747602553389868,\n",
       " 0.6743866387176076,\n",
       " 0.6740134109870647,\n",
       " 0.6736405717360675,\n",
       " 0.6732681205534997,\n",
       " 0.6728960570284201,\n",
       " 0.6725243807500628,\n",
       " 0.6721530913078393,\n",
       " 0.671782188291339,\n",
       " 0.6714116712903307,\n",
       " 0.6710415398947633,\n",
       " 0.6706717936947669,\n",
       " 0.6703024322806538,\n",
       " 0.66993345524292,\n",
       " 0.6695648621722458,\n",
       " 0.6691966526594965,\n",
       " 0.6688288262957245,\n",
       " 0.6684613826721695,\n",
       " 0.6680943213802596,\n",
       " 0.6677276420116126,\n",
       " 0.6673613441580369,\n",
       " 0.6669954274115322,\n",
       " 0.6666298913642913,\n",
       " 0.6662647356087,\n",
       " 0.6658999597373394,\n",
       " 0.6655355633429854,\n",
       " 0.6651715460186111,\n",
       " 0.6648079073573869,\n",
       " 0.6644446469526821,\n",
       " 0.664081764398065,\n",
       " 0.6637192592873046,\n",
       " 0.6633571312143717,\n",
       " 0.6629953797734389,\n",
       " 0.6626340045588831,\n",
       " 0.6622730051652846,\n",
       " 0.6619123811874298,\n",
       " 0.6615521322203108,\n",
       " 0.6611922578591275,\n",
       " 0.6608327576992871,\n",
       " 0.6604736313364065,\n",
       " 0.6601148783663127,\n",
       " 0.6597564983850434,\n",
       " 0.6593984909888477,\n",
       " 0.6590408557741888,\n",
       " 0.6586835923377419,\n",
       " 0.6583267002763984,\n",
       " 0.657970179187264,\n",
       " 0.6576140286676614,\n",
       " 0.6572582483151306,\n",
       " 0.6569028377274297,\n",
       " 0.6565477965025358,\n",
       " 0.6561931242386462,\n",
       " 0.6558388205341789,\n",
       " 0.6554848849877737,\n",
       " 0.6551313171982933,\n",
       " 0.6547781167648231,\n",
       " 0.6544252832866734,\n",
       " 0.6540728163633802,\n",
       " 0.6537207155947043,\n",
       " 0.6533689805806345,\n",
       " 0.6530176109213868,\n",
       " 0.6526666062174061,\n",
       " 0.6523159660693668,\n",
       " 0.651965690078173,\n",
       " 0.6516157778449605,\n",
       " 0.6512662289710971,\n",
       " 0.6509170430581827,\n",
       " 0.6505682197080513,\n",
       " 0.6502197585227717,\n",
       " 0.6498716591046467,\n",
       " 0.6495239210562165,\n",
       " 0.6491765439802571,\n",
       " 0.6488295274797823,\n",
       " 0.648482871158045,\n",
       " 0.6481365746185364,\n",
       " 0.6477906374649883,\n",
       " 0.6474450593013731,\n",
       " 0.6470998397319044,\n",
       " 0.6467549783610388,\n",
       " 0.6464104747934756,\n",
       " 0.6460663286341579,\n",
       " 0.6457225394882737,\n",
       " 0.6453791069612563,\n",
       " 0.6450360306587851,\n",
       " 0.6446933101867862,\n",
       " 0.6443509451514337,\n",
       " 0.6440089351591498,\n",
       " 0.6436672798166063,\n",
       " 0.6433259787307243,\n",
       " 0.6429850315086758,\n",
       " 0.6426444377578839,\n",
       " 0.6423041970860242,\n",
       " 0.6419643091010246,\n",
       " 0.6416247734110666,\n",
       " 0.6412855896245861,\n",
       " 0.6409467573502738,\n",
       " 0.6406082761970759,\n",
       " 0.6402701457741949,\n",
       " 0.6399323656910907,\n",
       " 0.6395949355574803,\n",
       " 0.6392578549833395,\n",
       " 0.638921123578903,\n",
       " 0.6385847409546654,\n",
       " 0.6382487067213819,\n",
       " 0.637913020490068,\n",
       " 0.6375776818720023,\n",
       " 0.6372426904787245,\n",
       " 0.6369080459220381,\n",
       " 0.6365737478140105,\n",
       " 0.6362397957669733,\n",
       " 0.6359061893935231,\n",
       " 0.6355729283065221,\n",
       " 0.6352400121190994,\n",
       " 0.6349074404446505,\n",
       " 0.6345752128968389,\n",
       " 0.6342433290895964,\n",
       " 0.6339117886371235,\n",
       " 0.6335805911538904,\n",
       " 0.6332497362546373,\n",
       " 0.6329192235543754,\n",
       " 0.6325890526683868,\n",
       " 0.6322592232122265,\n",
       " 0.6319297348017208,\n",
       " 0.6316005870529704,\n",
       " 0.6312717795823491,\n",
       " 0.6309433120065058,\n",
       " 0.6306151839423634,\n",
       " 0.6302873950071213,\n",
       " 0.6299599448182542,\n",
       " 0.6296328329935148,\n",
       " 0.6293060591509316,\n",
       " 0.6289796229088122,\n",
       " 0.628653523885742,\n",
       " 0.6283277617005858,\n",
       " 0.6280023359724879,\n",
       " 0.6276772463208726,\n",
       " 0.6273524923654452,\n",
       " 0.6270280737261921,\n",
       " 0.6267039900233815,\n",
       " 0.626380240877564,\n",
       " 0.6260568259095732,\n",
       " 0.6257337447405262,\n",
       " 0.6254109969918237,\n",
       " 0.6250885822851513,\n",
       " 0.6247665002424797,\n",
       " 0.6244447504860646,\n",
       " 0.6241233326384487,\n",
       " 0.6238022463224606,\n",
       " 0.6234814911612162,\n",
       " 0.6231610667781189,\n",
       " 0.6228409727968608,\n",
       " 0.622521208841422,\n",
       " 0.6222017745360721,\n",
       " 0.6218826695053702,\n",
       " 0.6215638933741658,\n",
       " 0.6212454457675985,\n",
       " 0.6209273263110999,\n",
       " 0.6206095346303921,\n",
       " 0.6202920703514903,\n",
       " 0.6199749331007014,\n",
       " 0.6196581225046262,\n",
       " 0.6193416381901582,\n",
       " 0.6190254797844854,\n",
       " 0.6187096469150902,\n",
       " 0.6183941392097495,\n",
       " 0.6180789562965361,\n",
       " 0.6177640978038182,\n",
       " 0.6174495633602607,\n",
       " 0.6171353525948244,\n",
       " 0.6168214651367682,\n",
       " 0.6165079006156479,\n",
       " 0.6161946586613178,\n",
       " 0.6158817389039306,\n",
       " 0.6155691409739376,\n",
       " 0.6152568645020895,\n",
       " 0.6149449091194371,\n",
       " 0.6146332744573307,\n",
       " 0.6143219601474222,\n",
       " 0.6140109658216639,\n",
       " 0.6137002911123092,\n",
       " 0.6133899356519138,\n",
       " 0.6130798990733356,\n",
       " 0.6127701810097349,\n",
       " 0.6124607810945756,\n",
       " 0.612151698961624,\n",
       " 0.6118429342449514,\n",
       " 0.6115344865789326,\n",
       " 0.6112263555982472,\n",
       " 0.6109185409378799,\n",
       " 0.6106110422331203,\n",
       " 0.6103038591195643,\n",
       " 0.6099969912331139,\n",
       " 0.6096904382099771,\n",
       " 0.6093841996866692,\n",
       " 0.6090782753000127,\n",
       " 0.6087726646871374,\n",
       " 0.6084673674854814,\n",
       " 0.6081623833327907,\n",
       " 0.6078577118671206,\n",
       " 0.6075533527268345,\n",
       " 0.6072493055506062,\n",
       " 0.6069455699774183,\n",
       " 0.6066421456465639,\n",
       " 0.6063390321976464,\n",
       " 0.6060362292705802,\n",
       " 0.6057337365055899,\n",
       " 0.6054315535432124,\n",
       " 0.605129680024296,\n",
       " 0.6048281155900008,\n",
       " 0.6045268598817995,\n",
       " 0.6042259125414773,\n",
       " 0.6039252732111327,\n",
       " 0.603624941533177,\n",
       " 0.6033249171503355,\n",
       " 0.6030251997056474,\n",
       " 0.6027257888424657,\n",
       " 0.6024266842044584,\n",
       " 0.6021278854356084,\n",
       " 0.6018293921802128,\n",
       " 0.6015312040828853,\n",
       " 0.6012333207885543,\n",
       " 0.600935741942465,\n",
       " 0.6006384671901781,\n",
       " 0.6003414961775714,\n",
       " 0.6000448285508392,\n",
       " 0.599748463956493,\n",
       " 0.5994524020413617,\n",
       " 0.5991566424525918,\n",
       " 0.5988611848376477,\n",
       " 0.5985660288443119,\n",
       " 0.5982711741206858,\n",
       " 0.5979766203151882,\n",
       " 0.5976823670765584,\n",
       " 0.5973884140538541,\n",
       " 0.5970947608964525,\n",
       " 0.5968014072540506,\n",
       " 0.5965083527766651,\n",
       " 0.5962155971146333,\n",
       " 0.5959231399186127,\n",
       " 0.5956309808395812,\n",
       " 0.5953391195288381,\n",
       " 0.5950475556380033,\n",
       " 0.5947562888190185,\n",
       " 0.594465318724147,\n",
       " 0.5941746450059732,\n",
       " 0.5938842673174044,\n",
       " 0.5935941853116696,\n",
       " 0.5933043986423207,\n",
       " 0.5930149069632314,\n",
       " 0.5927257099285995,\n",
       " 0.592436807192945,\n",
       " 0.5921481984111117,\n",
       " 0.5918598832382664,\n",
       " 0.5915718613299001,\n",
       " 0.5912841323418273,\n",
       " 0.590996695930187,\n",
       " 0.5907095517514421,\n",
       " 0.5904226994623804,\n",
       " 0.5901361387201137,\n",
       " 0.5898498691820794,\n",
       " 0.5895638905060395,\n",
       " 0.5892782023500817,\n",
       " 0.5889928043726181,\n",
       " 0.5887076962323876,\n",
       " 0.5884228775884541,\n",
       " 0.5881383481002072,\n",
       " 0.5878541074273631,\n",
       " 0.5875701552299647,\n",
       " 0.5872864911683798,\n",
       " 0.5870031149033047,\n",
       " 0.5867200260957606,\n",
       " 0.586437224407097,\n",
       " 0.5861547094989895,\n",
       " 0.5858724810334416,\n",
       " 0.5855905386727834,\n",
       " 0.5853088820796734,\n",
       " 0.585027510917097,\n",
       " 0.5847464248483677,\n",
       " 0.584465623537127,\n",
       " 0.5841851066473441,\n",
       " 0.5839048738433167,\n",
       " 0.5836249247896709,\n",
       " 0.5833452591513608,\n",
       " 0.5830658765936697,\n",
       " 0.5827867767822091,\n",
       " 0.58250795938292,\n",
       " 0.5822294240620711,\n",
       " 0.5819511704862615,\n",
       " 0.581673198322419,\n",
       " 0.5813955072378005,\n",
       " 0.5811180968999929,\n",
       " 0.5808409669769118,\n",
       " 0.5805641171368029,\n",
       " 0.5802875470482419,\n",
       " 0.5800112563801338,\n",
       " 0.5797352448017143,\n",
       " 0.5794595119825483,\n",
       " 0.5791840575925312,\n",
       " 0.5789088813018888,\n",
       " 0.5786339827811775,\n",
       " 0.578359361701283,\n",
       " 0.5780850177334228,\n",
       " 0.5778109505491443,\n",
       " 0.5775371598203257,\n",
       " 0.5772636452191764,\n",
       " 0.5769904064182358,\n",
       " 0.576717443090375,\n",
       " 0.5764447549087957,\n",
       " 0.5761723415470309,\n",
       " 0.5759002026789446,\n",
       " 0.5756283379787319,\n",
       " 0.5753567471209197,\n",
       " 0.5750854297803655,\n",
       " 0.5748143856322587,\n",
       " 0.5745436143521204,\n",
       " 0.5742731156158026,\n",
       " 0.5740028890994895,\n",
       " 0.5737329344796964,\n",
       " 0.5734632514332709,\n",
       " 0.5731938396373918,\n",
       " 0.5729246987695701,\n",
       " 0.5726558285076483,\n",
       " 0.5723872285298011,\n",
       " 0.5721188985145349,\n",
       " 0.5718508381406885,\n",
       " 0.5715830470874323,\n",
       " 0.5713155250342689,\n",
       " 0.5710482716610329,\n",
       " 0.5707812866478912,\n",
       " 0.5705145696753426,\n",
       " 0.5702481204242188,\n",
       " 0.5699819385756826,\n",
       " 0.5697160238112301,\n",
       " 0.569450375812689,\n",
       " 0.5691849942622192,\n",
       " 0.5689198788423139,\n",
       " 0.5686550292357974,\n",
       " 0.5683904451258269,\n",
       " 0.5681261261958923,\n",
       " 0.5678620721298153,\n",
       " 0.5675982826117502,\n",
       " 0.5673347573261838,\n",
       " 0.5670714959579352,\n",
       " 0.5668084981921557,\n",
       " 0.5665457637143296,\n",
       " 0.5662832922102733,\n",
       " 0.5660210833661351,\n",
       " 0.5657591368683964,\n",
       " 0.5654974524038711,\n",
       " 0.5652360296597048,\n",
       " 0.5649748683233761,\n",
       " 0.5647139680826959,\n",
       " 0.564453328625807,\n",
       " 0.5641929496411852,\n",
       " 0.5639328308176383,\n",
       " 0.5636729718443069,\n",
       " 0.563413372410663,\n",
       " 0.563154032206512,\n",
       " 0.5628949509219905,\n",
       " 0.5626361282475683,\n",
       " 0.5623775638740469,\n",
       " 0.5621192574925604,\n",
       " 0.5618612087945745,\n",
       " 0.5616034174718874,\n",
       " 0.5613458832166297,\n",
       " 0.5610886057212635,\n",
       " 0.5608315846785835,\n",
       " 0.5605748197817161,\n",
       " 0.5603183107241198,\n",
       " 0.5600620571995851,\n",
       " 0.5598060589022341,\n",
       " 0.5595503155265212,\n",
       " 0.5592948267672324,\n",
       " 0.5590395923194854,\n",
       " 0.5587846118787296,\n",
       " 0.5585298851407465,\n",
       " 0.5582754118016487,\n",
       " 0.5580211915578807,\n",
       " 0.5577672241062184,\n",
       " 0.5575135091437691,\n",
       " 0.5572600463679717,\n",
       " 0.5570068354765962,\n",
       " 0.5567538761677444,\n",
       " 0.5565011681398488,\n",
       " 0.5562487110916734,\n",
       " 0.5559965047223129,\n",
       " 0.5557445487311933,\n",
       " 0.555492842818072,\n",
       " 0.5552413866830367,\n",
       " 0.5549901800265061,\n",
       " 0.5547392225492297,\n",
       " 0.5544885139522879,\n",
       " 0.5542380539370911,\n",
       " 0.5539878422053812,\n",
       " 0.5537378784592297,\n",
       " 0.5534881624010392,\n",
       " 0.5532386937335416,\n",
       " 0.5529894721598004,\n",
       " 0.5527404973832081,\n",
       " 0.5524917691074877,\n",
       " 0.5522432870366921,\n",
       " 0.5519950508752044,\n",
       " 0.5517470603277368,\n",
       " 0.551499315099332,\n",
       " 0.5512518148953619,\n",
       " 0.551004559421528,\n",
       " 0.550757548383861,\n",
       " 0.5505107814887215,\n",
       " 0.5502642584427988,\n",
       " 0.5500179789531114,\n",
       " 0.5497719427270071,\n",
       " 0.5495261494721627,\n",
       " 0.5492805988965833,\n",
       " 0.5490352907086034,\n",
       " 0.5487902246168856,\n",
       " 0.5485454003304212,\n",
       " 0.5483008175585302,\n",
       " 0.5480564760108605,\n",
       " 0.5478123753973883,\n",
       " 0.547568515428418,\n",
       " 0.547324895814582,\n",
       " 0.5470815162668404,\n",
       " 0.5468383764964811,\n",
       " 0.5465954762151197,\n",
       " 0.5463528151346992,\n",
       " 0.5461103929674903,\n",
       " 0.5458682094260903,\n",
       " 0.5456262642234244,\n",
       " 0.5453845570727442,\n",
       " 0.5451430876876291,\n",
       " 0.544901855781984,\n",
       " 0.5446608610700414,\n",
       " 0.5444201032663603,\n",
       " 0.5441795820858255,\n",
       " 0.5439392972436485,\n",
       " 0.5436992484553671,\n",
       " 0.5434594354368448,\n",
       " 0.5432198579042709,\n",
       " 0.5429805155741604,\n",
       " 0.5427414081633544,\n",
       " 0.542502535389019,\n",
       " 0.5422638969686459,\n",
       " 0.5420254926200516,\n",
       " 0.541787322061378,\n",
       " 0.5415493850110918,\n",
       " 0.5413116811879846,\n",
       " 0.5410742103111723,\n",
       " 0.5408369721000953,\n",
       " 0.5405999662745188,\n",
       " 0.5403631925545317,\n",
       " 0.540126650660547,\n",
       " 0.5398903403133019,\n",
       " 0.5396542612338568,\n",
       " 0.5394184131435963,\n",
       " 0.539182795764228,\n",
       " 0.5389474088177828,\n",
       " 0.5387122520266148,\n",
       " 0.5384773251134011,\n",
       " 0.5382426278011416,\n",
       " 0.5380081598131589,\n",
       " 0.5377739208730978,\n",
       " 0.537539910704926,\n",
       " 0.5373061290329327,\n",
       " 0.5370725755817297,\n",
       " 0.5368392500762502,\n",
       " 0.5366061522417495,\n",
       " 0.5363732818038036,\n",
       " 0.5361406384883111,\n",
       " 0.5359082220214908,\n",
       " 0.5356760321298829,\n",
       " 0.5354440685403483,\n",
       " 0.5352123309800687,\n",
       " 0.5349808191765466,\n",
       " 0.534749532857604,\n",
       " 0.5345184717513838,\n",
       " 0.5342876355863486,\n",
       " 0.5340570240912809,\n",
       " 0.5338266369952829,\n",
       " 0.5335964740277761,\n",
       " 0.5333665349185013,\n",
       " 0.5331368193975187,\n",
       " 0.5329073271952068,\n",
       " 0.5326780580422636,\n",
       " 0.5324490116697052,\n",
       " 0.532220187808866,\n",
       " 0.5319915861913993,\n",
       " 0.5317632065492753,\n",
       " 0.531535048614783,\n",
       " 0.5313071121205286,\n",
       " 0.5310793967994358,\n",
       " 0.5308519023847459,\n",
       " 0.5306246286100166,\n",
       " 0.5303975752091232,\n",
       " 0.5301707419162575,\n",
       " 0.5299441284659272,\n",
       " 0.5297177345929575,\n",
       " 0.5294915600324884,\n",
       " 0.5292656045199772,\n",
       " 0.5290398677911958,\n",
       " 0.5288143495822323,\n",
       " 0.5285890496294899,\n",
       " 0.5283639676696872,\n",
       " 0.528139103439857,\n",
       " 0.5279144566773482,\n",
       " 0.527690027119823,\n",
       " 0.5274658145052586,\n",
       " 0.5272418185719461,\n",
       " 0.5270180390584909,\n",
       " 0.5267944757038117,\n",
       " 0.5265711282471411,\n",
       " 0.526347996428025,\n",
       " 0.5261250799863222,\n",
       " 0.5259023786622046,\n",
       " 0.525679892196157,\n",
       " 0.5254576203289764,\n",
       " 0.5252355628017725,\n",
       " 0.5250137193559667,\n",
       " 0.5247920897332927,\n",
       " 0.5245706736757956,\n",
       " 0.524349470925832,\n",
       " 0.5241284812260698,\n",
       " 0.5239077043194882,\n",
       " 0.5236871399493769,\n",
       " 0.5234667878593364,\n",
       " 0.5232466477932776,\n",
       " 0.5230267194954216,\n",
       " 0.5228070027102995,\n",
       " 0.5225874971827518,\n",
       " 0.5223682026579295,\n",
       " 0.5221491188812919,\n",
       " 0.5219302455986078,\n",
       " 0.5217115825559553,\n",
       " 0.5214931294997207,\n",
       " 0.5212748861765988,\n",
       " 0.5210568523335927,\n",
       " 0.5208390277180134,\n",
       " 0.52062141207748,\n",
       " 0.520404005159919,\n",
       " 0.5201868067135643,\n",
       " 0.5199698164869568,\n",
       " 0.5197530342289441,\n",
       " 0.5195364596886811,\n",
       " 0.5193200926156285,\n",
       " 0.5191039327595538,\n",
       " 0.5188879798705297,\n",
       " 0.5186722336989354,\n",
       " 0.5184566939954555,\n",
       " 0.5182413605110797,\n",
       " 0.5180262329971025,\n",
       " 0.5178113112051242,\n",
       " 0.5175965948870488,\n",
       " 0.5173820837950848,\n",
       " 0.5171677776817453,\n",
       " 0.5169536762998469,\n",
       " 0.5167397794025101,\n",
       " 0.5165260867431587,\n",
       " 0.51631259807552,\n",
       " 0.5160993131536238,\n",
       " 0.5158862317318031,\n",
       " 0.5156733535646932,\n",
       " 0.5154606784072316,\n",
       " 0.515248206014658,\n",
       " 0.515035936142514,\n",
       " 0.5148238685466422,\n",
       " 0.5146120029831871,\n",
       " 0.5144003392085941,\n",
       " 0.5141888769796094,\n",
       " 0.5139776160532796,\n",
       " 0.5137665561869522,\n",
       " 0.5135556971382744,\n",
       " 0.513345038665193,\n",
       " 0.5131345805259553,\n",
       " 0.5129243224791072,\n",
       " 0.5127142642834939,\n",
       " 0.51250440569826,\n",
       " 0.5122947464828479,\n",
       " 0.512085286396999,\n",
       " 0.511876025200753,\n",
       " 0.5116669626544471,\n",
       " 0.5114580985187164,\n",
       " 0.5112494325544931,\n",
       " 0.5110409645230071,\n",
       " 0.5108326941857849,\n",
       " 0.5106246213046498,\n",
       " 0.5104167456417212,\n",
       " 0.5102090669594154,\n",
       " 0.5100015850204439,\n",
       " 0.5097942995878142,\n",
       " 0.5095872104248292,\n",
       " 0.5093803172950871,\n",
       " 0.5091736199624809,\n",
       " 0.5089671181911981,\n",
       " 0.5087608117457211,\n",
       " 0.5085547003908261,\n",
       " 0.5083487838915832,\n",
       " 0.5081430620133565,\n",
       " 0.507937534521803,\n",
       " 0.5077322011828735,\n",
       " 0.5075270617628109,\n",
       " 0.5073221160281517,\n",
       " 0.507117363745724,\n",
       " 0.5069128046826484,\n",
       " 0.5067084386063374,\n",
       " 0.506504265284495,\n",
       " 0.5063002844851163,\n",
       " 0.5060964959764881,\n",
       " 0.5058928995271879,\n",
       " 0.5056894949060832,\n",
       " 0.5054862818823326,\n",
       " 0.5052832602253845,\n",
       " 0.5050804297049767,\n",
       " 0.5048777900911372,\n",
       " 0.5046753411541832,\n",
       " 0.5044730826647204,\n",
       " 0.5042710143936437,\n",
       " 0.5040691361121366,\n",
       " 0.5038674475916705,\n",
       " 0.5036659486040048,\n",
       " 0.5034646389211873,\n",
       " 0.5032635183155526,\n",
       " 0.5030625865597222,\n",
       " 0.5028618434266057,\n",
       " 0.5026612886893981,\n",
       " 0.5024609221215817,\n",
       " 0.5022607434969244,\n",
       " 0.5020607525894806,\n",
       " 0.5018609491735894,\n",
       " 0.5016613330238762,\n",
       " 0.5014619039152507,\n",
       " 0.5012626616229081,\n",
       " 0.5010636059223277,\n",
       " 0.5008647365892733,\n",
       " 0.5006660533997925,\n",
       " 0.500467556130217,\n",
       " 0.5002692445571616,\n",
       " 0.5000711184575246,\n",
       " 0.49987317760848704,\n",
       " 0.49967542178751284,\n",
       " 0.4994778507723483,\n",
       " 0.49928046434102163,\n",
       " 0.4990832622718434,\n",
       " 0.4988862443434053,\n",
       " 0.4986894103345806,\n",
       " 0.49849276002452353,\n",
       " 0.4982962931926692,\n",
       " 0.4981000096187335,\n",
       " 0.49790390908271187,\n",
       " 0.4977079913648806,\n",
       " 0.4975122562457949,\n",
       " 0.49731670350629004,\n",
       " 0.4971213329274802,\n",
       " 0.4969261442907584,\n",
       " 0.49673113737779645,\n",
       " 0.49653631197054443,\n",
       " 0.49634166785123063,\n",
       " 0.4961472048023609,\n",
       " 0.49595292260671897,\n",
       " 0.4957588210473654,\n",
       " 0.49556489990763825,\n",
       " 0.49537115897115186,\n",
       " 0.4951775980217973,\n",
       " 0.4949842168437418,\n",
       " 0.49479101522142827,\n",
       " 0.4945979929395756,\n",
       " 0.49440514978317757,\n",
       " 0.49421248553750347,\n",
       " 0.4940199999880971,\n",
       " 0.493827692920777,\n",
       " 0.4936355641216358,\n",
       " 0.4934436133770403,\n",
       " 0.4932518404736307,\n",
       " 0.49306024519832087,\n",
       " 0.4928688273382977,\n",
       " 0.49267758668102113,\n",
       " 0.4924865230142235,\n",
       " 0.4922956361259096,\n",
       " 0.4921049258043561,\n",
       " 0.49191439183811164,\n",
       " 0.49172403401599635,\n",
       " 0.49153385212710143,\n",
       " 0.4913438459607889,\n",
       " 0.4911540153066917,\n",
       " 0.49096435995471327,\n",
       " 0.4907748796950267,\n",
       " 0.4905855743180753,\n",
       " 0.4903964436145717,\n",
       " 0.4902074873754978,\n",
       " 0.4900187053921047,\n",
       " 0.4898300974559121,\n",
       " 0.48964166335870796,\n",
       " 0.48945340289254863,\n",
       " 0.4892653158497583,\n",
       " 0.4890774020229286,\n",
       " 0.4888896612049188,\n",
       " 0.4887020931888549,\n",
       " 0.4885146977681296,\n",
       " 0.48832747473640237,\n",
       " 0.4881404238875988,\n",
       " 0.48795354501591043,\n",
       " 0.48776683791579417,\n",
       " 0.48758030238197253,\n",
       " 0.487393938209433,\n",
       " 0.48720774519342813,\n",
       " 0.4870217231294747,\n",
       " 0.48683587181335386,\n",
       " 0.48665019104111035,\n",
       " 0.4864646806090533,\n",
       " 0.4862793403137549,\n",
       " 0.48609416995205024,\n",
       " 0.48590916932103734,\n",
       " 0.48572433821807703]"
      ]
     },
     "execution_count": 237,
     "metadata": {},
     "output_type": "execute_result"
    }
   ],
   "source": [
    "np.random.seed(seed=10)\n",
    "theta=np.random.rand(5,1)\n",
    "cost,theta = gradient_descent(X, y, theta)\n",
    "cost"
   ]
  },
  {
   "cell_type": "markdown",
   "metadata": {},
   "source": [
    "## プロット"
   ]
  },
  {
   "cell_type": "code",
   "execution_count": 238,
   "metadata": {
    "collapsed": true,
    "scrolled": false
   },
   "outputs": [],
   "source": [
    "def cost_plot(costs):\n",
    "        plt.figure(figsize=(12,8))\n",
    "        plt.title(\"Cost Function J\")\n",
    "\n",
    "        # Plot lines\n",
    "        plt.xlabel('No. of iterations')\n",
    "        plt.ylabel('Cost')\n",
    "        plt.legend()\n",
    "        plt.plot(costs)\n",
    "        # Visualize\n",
    "#cost_plot(cost)"
   ]
  },
  {
   "cell_type": "code",
   "execution_count": 239,
   "metadata": {},
   "outputs": [
    {
     "name": "stderr",
     "output_type": "stream",
     "text": [
      "No handles with labels found to put in legend.\n"
     ]
    },
    {
     "data": {
      "image/png": "[encoded data removed]",
      "text/plain": [
       "<Figure size 864x576 with 1 Axes>"
      ]
     },
     "metadata": {},
     "output_type": "display_data"
    }
   ],
   "source": [
    "cost_plot(cost)"
   ]
  },
  {
   "cell_type": "markdown",
   "metadata": {},
   "source": [
    "### 予測関数"
   ]
  },
  {
   "cell_type": "code",
   "execution_count": 240,
   "metadata": {
    "collapsed": true
   },
   "outputs": [],
   "source": [
    "# 確率を求める\n",
    "def predict_probs(X, theta):\n",
    "    return sigmoid(X, theta)\n",
    "    \n",
    "    \n",
    "# 分類を行う。\n",
    "def predict(X, theta, threshold=0.5):\n",
    "    \"\"\"\n",
    "    threshold: 閾値\n",
    "    \"\"\"\"\"\n",
    "    theta_x = np.dot(X,theta)\n",
    "    pred = np.sum((sigmoid(X,theta)>=threshold)[:50])  \n",
    "    \n",
    "    return pred\n",
    "    "
   ]
  },
  {
   "cell_type": "markdown",
   "metadata": {},
   "source": [
    "以下はモデルの精度です(%)。"
   ]
  },
  {
   "cell_type": "code",
   "execution_count": 241,
   "metadata": {
    "scrolled": true
   },
   "outputs": [
    {
     "data": {
      "text/plain": [
       "46"
      ]
     },
     "execution_count": 241,
     "metadata": {},
     "output_type": "execute_result"
    }
   ],
   "source": [
    "# 正解数\n",
    "predict(X, theta, threshold=0.5)"
   ]
  },
  {
   "cell_type": "code",
   "execution_count": 242,
   "metadata": {},
   "outputs": [
    {
     "name": "stdout",
     "output_type": "stream",
     "text": [
      "正解率92.0%\n"
     ]
    }
   ],
   "source": [
    "print('正解率'+str(100*(predict(X, theta, threshold=0.5))/50) +'%')"
   ]
  }
 ],
 "metadata": {
  "kernelspec": {
   "display_name": "Python 3",
   "language": "python",
   "name": "python3"
  },
  "language_info": {
   "codemirror_mode": {
    "name": "ipython",
    "version": 3
   },
   "file_extension": ".py",
   "mimetype": "text/x-python",
   "name": "python",
   "nbconvert_exporter": "python",
   "pygments_lexer": "ipython3",
   "version": "3.6.5"
  }
 },
 "nbformat": 4,
 "nbformat_minor": 2
}
